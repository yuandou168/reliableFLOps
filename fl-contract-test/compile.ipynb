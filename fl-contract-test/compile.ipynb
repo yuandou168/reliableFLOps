{
 "cells": [
  {
   "cell_type": "code",
   "execution_count": 1,
   "metadata": {},
   "outputs": [
    {
     "name": "stdout",
     "output_type": "stream",
     "text": [
      "New compatible solc version available: 0.8.28\n",
      "New compatible solc version available: 0.8.28\n",
      "Incentive ABI: [{'inputs': [{'internalType': 'uint256', 'name': '_deadline', 'type': 'uint256'}, {'internalType': 'uint256', 'name': '_gracePeriod', 'type': 'uint256'}, {'internalType': 'uint256', 'name': '_claimWindow', 'type': 'uint256'}, {'internalType': 'uint96[3][3]', 'name': '_stakeMatrix', 'type': 'uint96[3][3]'}, {'internalType': 'uint16[3][3]', 'name': '_multiplierMatrix', 'type': 'uint16[3][3]'}], 'stateMutability': 'payable', 'type': 'constructor', 'name': 'constructor'}, {'anonymous': False, 'inputs': [{'indexed': False, 'internalType': 'uint256', 'name': 'totalRewards', 'type': 'uint256'}], 'name': 'ContractFinalized', 'type': 'event'}, {'anonymous': False, 'inputs': [{'indexed': True, 'internalType': 'address', 'name': 'user', 'type': 'address'}, {'indexed': False, 'internalType': 'uint256', 'name': 'penalty', 'type': 'uint256'}], 'name': 'LatePenaltyApplied', 'type': 'event'}, {'anonymous': False, 'inputs': [{'indexed': True, 'internalType': 'uint8', 'name': 'dcat', 'type': 'uint8'}, {'indexed': True, 'internalType': 'uint8', 'name': 'rcat', 'type': 'uint8'}, {'indexed': False, 'internalType': 'uint256', 'name': 'newStake', 'type': 'uint256'}, {'indexed': False, 'internalType': 'uint256', 'name': 'newMultiplier', 'type': 'uint256'}], 'name': 'ParametersUpdated', 'type': 'event'}, {'anonymous': False, 'inputs': [{'indexed': True, 'internalType': 'address', 'name': 'user', 'type': 'address'}, {'indexed': False, 'internalType': 'uint8', 'name': 'dataCat', 'type': 'uint8'}, {'indexed': False, 'internalType': 'uint8', 'name': 'resourceCat', 'type': 'uint8'}, {'indexed': False, 'internalType': 'uint256', 'name': 'stake', 'type': 'uint256'}], 'name': 'ParticipantJoined', 'type': 'event'}, {'anonymous': False, 'inputs': [{'indexed': False, 'internalType': 'enum FLIncentiveOptimized.ContractPhase', 'name': 'newPhase', 'type': 'uint8'}], 'name': 'PhaseChanged', 'type': 'event'}, {'anonymous': False, 'inputs': [{'indexed': True, 'internalType': 'address', 'name': 'user', 'type': 'address'}, {'indexed': False, 'internalType': 'uint256', 'name': 'amount', 'type': 'uint256'}], 'name': 'RewardClaimed', 'type': 'event'}, {'inputs': [], 'name': 'claimReward', 'outputs': [], 'stateMutability': 'nonpayable', 'type': 'function'}, {'inputs': [], 'name': 'confirmParamUpdate', 'outputs': [], 'stateMutability': 'nonpayable', 'type': 'function'}, {'inputs': [], 'name': 'currentPhase', 'outputs': [{'internalType': 'enum FLIncentiveOptimized.ContractPhase', 'name': '', 'type': 'uint8'}], 'stateMutability': 'view', 'type': 'function'}, {'inputs': [], 'name': 'currentPoolBalance', 'outputs': [{'internalType': 'uint256', 'name': '', 'type': 'uint256'}], 'stateMutability': 'view', 'type': 'function'}, {'inputs': [], 'name': 'finalize', 'outputs': [], 'stateMutability': 'nonpayable', 'type': 'function'}, {'inputs': [], 'name': 'getParticipantCount', 'outputs': [{'internalType': 'uint256', 'name': '', 'type': 'uint256'}], 'stateMutability': 'view', 'type': 'function'}, {'inputs': [{'internalType': 'uint8', 'name': 'dcat', 'type': 'uint8'}, {'internalType': 'uint8', 'name': 'rcat', 'type': 'uint8'}], 'name': 'join', 'outputs': [], 'stateMutability': 'payable', 'type': 'function'}, {'inputs': [{'internalType': 'uint256', 'name': '', 'type': 'uint256'}, {'internalType': 'uint256', 'name': '', 'type': 'uint256'}], 'name': 'multiplierMatrix', 'outputs': [{'internalType': 'uint16', 'name': '', 'type': 'uint16'}], 'stateMutability': 'view', 'type': 'function'}, {'inputs': [], 'name': 'newMultiplier', 'outputs': [{'internalType': 'uint16', 'name': '', 'type': 'uint16'}], 'stateMutability': 'view', 'type': 'function'}, {'inputs': [], 'name': 'newStake', 'outputs': [{'internalType': 'uint96', 'name': '', 'type': 'uint96'}], 'stateMutability': 'view', 'type': 'function'}, {'inputs': [], 'name': 'paramUpdateTime', 'outputs': [{'internalType': 'uint256', 'name': '', 'type': 'uint256'}], 'stateMutability': 'view', 'type': 'function'}, {'inputs': [{'internalType': 'uint256', 'name': '', 'type': 'uint256'}], 'name': 'participantList', 'outputs': [{'internalType': 'address', 'name': '', 'type': 'address'}], 'stateMutability': 'view', 'type': 'function'}, {'inputs': [{'internalType': 'address', 'name': '', 'type': 'address'}], 'name': 'participants', 'outputs': [{'internalType': 'uint8', 'name': 'dataCat', 'type': 'uint8'}, {'internalType': 'uint8', 'name': 'resourceCat', 'type': 'uint8'}, {'internalType': 'uint96', 'name': 'stakePaid', 'type': 'uint96'}, {'internalType': 'uint40', 'name': 'joinTime', 'type': 'uint40'}, {'internalType': 'bool', 'name': 'isRewarded', 'type': 'bool'}, {'internalType': 'bool', 'name': 'joined', 'type': 'bool'}], 'stateMutability': 'view', 'type': 'function'}, {'inputs': [], 'name': 'pendingDcat', 'outputs': [{'internalType': 'uint8', 'name': '', 'type': 'uint8'}], 'stateMutability': 'view', 'type': 'function'}, {'inputs': [], 'name': 'pendingRcat', 'outputs': [{'internalType': 'uint8', 'name': '', 'type': 'uint8'}], 'stateMutability': 'view', 'type': 'function'}, {'inputs': [{'internalType': 'address', 'name': '', 'type': 'address'}], 'name': 'pendingRewards', 'outputs': [{'internalType': 'uint256', 'name': '', 'type': 'uint256'}], 'stateMutability': 'view', 'type': 'function'}, {'inputs': [], 'name': 'publisher', 'outputs': [{'internalType': 'address', 'name': '', 'type': 'address'}], 'stateMutability': 'view', 'type': 'function'}, {'inputs': [{'internalType': 'uint8', 'name': 'dcat', 'type': 'uint8'}, {'internalType': 'uint8', 'name': 'rcat', 'type': 'uint8'}, {'internalType': 'uint96', 'name': '_stake', 'type': 'uint96'}, {'internalType': 'uint16', 'name': '_multiplier', 'type': 'uint16'}], 'name': 'requestParamUpdate', 'outputs': [], 'stateMutability': 'nonpayable', 'type': 'function'}, {'inputs': [{'internalType': 'uint256', 'name': '', 'type': 'uint256'}, {'internalType': 'uint256', 'name': '', 'type': 'uint256'}], 'name': 'stakeMatrix', 'outputs': [{'internalType': 'uint96', 'name': '', 'type': 'uint96'}], 'stateMutability': 'view', 'type': 'function'}, {'inputs': [], 'name': 'timeConfig', 'outputs': [{'internalType': 'uint256', 'name': 'deadline', 'type': 'uint256'}, {'internalType': 'uint256', 'name': 'gracePeriod', 'type': 'uint256'}, {'internalType': 'uint256', 'name': 'claimWindow', 'type': 'uint256'}], 'stateMutability': 'view', 'type': 'function'}, {'inputs': [], 'name': 'totalLocked', 'outputs': [{'internalType': 'uint256', 'name': '', 'type': 'uint256'}], 'stateMutability': 'view', 'type': 'function'}, {'inputs': [], 'name': 'withdrawRemaining', 'outputs': [], 'stateMutability': 'nonpayable', 'type': 'function'}, {'stateMutability': 'payable', 'type': 'receive'}]\n",
      "Consensus ABI: [{'inputs': [{'internalType': 'address', 'name': '_incentiveContract', 'type': 'address'}, {'internalType': 'uint256', 'name': '_minParticipants', 'type': 'uint256'}, {'internalType': 'uint256', 'name': '_modelTimeout', 'type': 'uint256'}], 'stateMutability': 'nonpayable', 'type': 'constructor', 'name': 'constructor'}, {'anonymous': False, 'inputs': [{'indexed': True, 'internalType': 'uint256', 'name': 'round', 'type': 'uint256'}, {'indexed': False, 'internalType': 'bytes32', 'name': 'aggregatedModel', 'type': 'bytes32'}], 'name': 'FLCompleted', 'type': 'event'}, {'anonymous': False, 'inputs': [{'indexed': True, 'internalType': 'uint256', 'name': 'round', 'type': 'uint256'}, {'indexed': False, 'internalType': 'address[]', 'name': 'participants', 'type': 'address[]'}], 'name': 'FLStarted', 'type': 'event'}, {'anonymous': False, 'inputs': [{'indexed': True, 'internalType': 'address', 'name': 'participant', 'type': 'address'}, {'indexed': False, 'internalType': 'uint256', 'name': 'round', 'type': 'uint256'}, {'indexed': False, 'internalType': 'bytes32', 'name': 'modelHash', 'type': 'bytes32'}], 'name': 'ModelSubmitted', 'type': 'event'}, {'inputs': [{'internalType': 'bytes32', 'name': '_aggregatedHash', 'type': 'bytes32'}], 'name': 'completeFLRound', 'outputs': [], 'stateMutability': 'nonpayable', 'type': 'function'}, {'inputs': [], 'name': 'currentRoundDeadline', 'outputs': [{'internalType': 'uint256', 'name': '', 'type': 'uint256'}], 'stateMutability': 'view', 'type': 'function'}, {'inputs': [{'internalType': 'uint256', 'name': '', 'type': 'uint256'}, {'internalType': 'address', 'name': '', 'type': 'address'}], 'name': 'flParticipants', 'outputs': [{'internalType': 'bool', 'name': 'submittedUpdate', 'type': 'bool'}, {'internalType': 'uint256', 'name': 'submissionTime', 'type': 'uint256'}, {'internalType': 'bytes32', 'name': 'modelHash', 'type': 'bytes32'}], 'stateMutability': 'view', 'type': 'function'}, {'inputs': [], 'name': 'flRound', 'outputs': [{'internalType': 'uint256', 'name': '', 'type': 'uint256'}], 'stateMutability': 'view', 'type': 'function'}, {'inputs': [], 'name': 'getEligibleParticipants', 'outputs': [{'internalType': 'address[]', 'name': '', 'type': 'address[]'}], 'stateMutability': 'view', 'type': 'function'}, {'inputs': [], 'name': 'incentiveContract', 'outputs': [{'internalType': 'address', 'name': '', 'type': 'address'}], 'stateMutability': 'view', 'type': 'function'}, {'inputs': [], 'name': 'isFLActive', 'outputs': [{'internalType': 'bool', 'name': '', 'type': 'bool'}], 'stateMutability': 'view', 'type': 'function'}, {'inputs': [], 'name': 'minParticipants', 'outputs': [{'internalType': 'uint256', 'name': '', 'type': 'uint256'}], 'stateMutability': 'view', 'type': 'function'}, {'inputs': [], 'name': 'modelUpdateTimeout', 'outputs': [{'internalType': 'uint256', 'name': '', 'type': 'uint256'}], 'stateMutability': 'view', 'type': 'function'}, {'inputs': [], 'name': 'startFLRound', 'outputs': [], 'stateMutability': 'nonpayable', 'type': 'function'}, {'inputs': [{'internalType': 'bytes32', 'name': '_modelHash', 'type': 'bytes32'}], 'name': 'submitModelUpdate', 'outputs': [], 'stateMutability': 'nonpayable', 'type': 'function'}, {'inputs': [], 'name': 'withdrawRemaining', 'outputs': [], 'stateMutability': 'nonpayable', 'type': 'function'}]\n"
     ]
    }
   ],
   "source": [
    "from brownie import compile_source\n",
    "\n",
    "def compile_contracts():\n",
    "    with open(\"contracts/FLIncentiveOptimized.sol\") as f:\n",
    "        incentive_code = f.read()\n",
    "    \n",
    "    with open(\"contracts/FLConsensus.sol\") as f:\n",
    "        consensus_code = f.read()\n",
    "    \n",
    "    incentive_contract = compile_source(incentive_code)['FLIncentiveOptimized']\n",
    "    consensus_contract = compile_source(consensus_code)['FLConsensus']\n",
    "    \n",
    "    return incentive_contract, consensus_contract\n",
    "\n",
    "if __name__ == \"__main__\":\n",
    "    incentive, consensus = compile_contracts()\n",
    "    print(f\"Incentive ABI: {incentive.abi}\")\n",
    "    print(f\"Consensus ABI: {consensus.abi}\")"
   ]
  }
 ],
 "metadata": {
  "kernelspec": {
   "display_name": "analysis",
   "language": "python",
   "name": "python3"
  },
  "language_info": {
   "codemirror_mode": {
    "name": "ipython",
    "version": 3
   },
   "file_extension": ".py",
   "mimetype": "text/x-python",
   "name": "python",
   "nbconvert_exporter": "python",
   "pygments_lexer": "ipython3",
   "version": "3.12.2"
  }
 },
 "nbformat": 4,
 "nbformat_minor": 2
}
