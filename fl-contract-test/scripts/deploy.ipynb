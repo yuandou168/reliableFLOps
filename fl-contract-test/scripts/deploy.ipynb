{
 "cells": [
  {
   "cell_type": "code",
   "execution_count": 6,
   "metadata": {},
   "outputs": [
    {
     "ename": "ImportError",
     "evalue": "cannot import name 'FLIncentiveOptimized' from 'brownie' (/opt/anaconda3/envs/jupyterLab/analysis/lib/python3.12/site-packages/brownie/__init__.py)",
     "output_type": "error",
     "traceback": [
      "\u001b[0;31m---------------------------------------------------------------------------\u001b[0m",
      "\u001b[0;31mImportError\u001b[0m                               Traceback (most recent call last)",
      "Cell \u001b[0;32mIn[6], line 1\u001b[0m\n\u001b[0;32m----> 1\u001b[0m \u001b[38;5;28;01mfrom\u001b[39;00m \u001b[38;5;21;01mbrownie\u001b[39;00m \u001b[38;5;28;01mimport\u001b[39;00m FLIncentiveOptimized, FLConsensus, accounts, config\n\u001b[1;32m      3\u001b[0m \u001b[38;5;28;01mdef\u001b[39;00m \u001b[38;5;21mmain\u001b[39m():\n\u001b[1;32m      4\u001b[0m     \u001b[38;5;66;03m# 加载账户\u001b[39;00m\n\u001b[1;32m      5\u001b[0m     deployer \u001b[38;5;241m=\u001b[39m accounts[\u001b[38;5;241m0\u001b[39m]\n",
      "\u001b[0;31mImportError\u001b[0m: cannot import name 'FLIncentiveOptimized' from 'brownie' (/opt/anaconda3/envs/jupyterLab/analysis/lib/python3.12/site-packages/brownie/__init__.py)"
     ]
    }
   ],
   "source": [
    "from brownie import FLIncentiveOptimized, FLConsensus, accounts, config\n",
    "\n",
    "def main():\n",
    "    # 加载账户\n",
    "    deployer = accounts[0]\n",
    "    \n",
    "    # 部署激励合约\n",
    "    print(\"🚀 部署激励合约...\")\n",
    "    incentive = FLIncentiveOptimized.deploy(\n",
    "        3600,  # deadline (1 hour)\n",
    "        600,   # grace period (10 mins)\n",
    "        86400, # claim window (1 day)\n",
    "        [[str(1e17)]*3]*3,  # stake matrix (0.1 ETH)\n",
    "        [[100]*3]*3,        # multiplier matrix\n",
    "        {'from': deployer, 'value': str(1e18)}  # 初始资金1 ETH\n",
    "    )\n",
    "    print(f\"📄 激励合约地址: {incentive.address}\")\n",
    "    \n",
    "    # 部署共识合约\n",
    "    print(\"🚀 部署共识合约...\")\n",
    "    consensus = FLConsensus.deploy(\n",
    "        incentive.address,\n",
    "        3,  # min participants\n",
    "        300, # model timeout (5 mins)\n",
    "        {'from': deployer}\n",
    "    )\n",
    "    print(f\"📄 共识合约地址: {consensus.address}\")\n",
    "    \n",
    "    return incentive, consensus"
   ]
  }
 ],
 "metadata": {
  "kernelspec": {
   "display_name": "analysis",
   "language": "python",
   "name": "python3"
  },
  "language_info": {
   "codemirror_mode": {
    "name": "ipython",
    "version": 3
   },
   "file_extension": ".py",
   "mimetype": "text/x-python",
   "name": "python",
   "nbconvert_exporter": "python",
   "pygments_lexer": "ipython3",
   "version": "3.12.2"
  }
 },
 "nbformat": 4,
 "nbformat_minor": 2
}
