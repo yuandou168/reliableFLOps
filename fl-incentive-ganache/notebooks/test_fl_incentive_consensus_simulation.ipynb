{
 "cells": [
  {
   "cell_type": "code",
   "execution_count": 4,
   "metadata": {},
   "outputs": [
    {
     "name": "stdout",
     "output_type": "stream",
     "text": [
      "✅ 已连接到Ganache | 当前区块: 55\n",
      "默认账户: 0x90F8bf6A479f320ead074411a4B0e7944Ea8c9C1 | 余额: 1000.00 ETH\n"
     ]
    }
   ],
   "source": [
    "# %% [1. 初始化环境]\n",
    "import os\n",
    "from web3 import Web3\n",
    "from solcx import compile_source, install_solc\n",
    "\n",
    "# 连接Ganache\n",
    "w3 = Web3(Web3.HTTPProvider('http://localhost:8545'))\n",
    "assert w3.is_connected(), \"⛔ 连接失败，请检查Ganache是否运行\"\n",
    "\n",
    "# 设置默认账户\n",
    "account = w3.eth.accounts[0]\n",
    "w3.eth.default_account = account\n",
    "\n",
    "print(f\"✅ 已连接到Ganache | 当前区块: {w3.eth.block_number}\")\n",
    "print(f\"默认账户: {account} | 余额: {w3.from_wei(w3.eth.get_balance(account), 'ether'):.2f} ETH\")"
   ]
  },
  {
   "cell_type": "code",
   "execution_count": 5,
   "metadata": {},
   "outputs": [
    {
     "name": "stdout",
     "output_type": "stream",
     "text": [
      "Pass\n"
     ]
    },
    {
     "ename": "SolcError",
     "evalue": "An error occurred during execution\n> command: `/Users/y.wang8uva.nl/.solcx/solc-v0.8.17 --combined-json abi,bin -`\n> return code: `1`\n> stdout:\n\n> stderr:\nError: True expression's type uint8 does not match false expression's type int8.\n  --> <stdin>:98:38:\n   |\n98 |         _updateReputation(submitter, isValid ? 5 : -20);\n   |                                      ^^^^^^^^^^^^^^^^^\n\nError: Invalid type for argument in function call. Invalid implicit conversion from uint8 to int256 requested.\n  --> <stdin>:98:38:\n   |\n98 |         _updateReputation(submitter, isValid ? 5 : -20);\n   |                                      ^^^^^^^^^^^^^^^^^\n\nError: True expression's type uint8 does not match false expression's type int8.\n  --> <stdin>:99:39:\n   |\n99 |         _updateReputation(msg.sender, isValid ? 2 : -10);\n   |                                       ^^^^^^^^^^^^^^^^^\n\nError: Invalid type for argument in function call. Invalid implicit conversion from uint8 to int256 requested.\n  --> <stdin>:99:39:\n   |\n99 |         _updateReputation(msg.sender, isValid ? 2 : -10);\n   |                                       ^^^^^^^^^^^^^^^^^\n\nError: Types in storage containing (nested) mappings cannot be assigned to.\n   --> <stdin>:171:9:\n    |\n171 |         rounds[currentRound] = TrainingRound({\n    |         ^^^^^^^^^^^^^^^^^^^^\n\nError: Struct containing a (nested) mapping cannot be constructed.\n   --> <stdin>:171:32:\n    |\n171 |         rounds[currentRound] = TrainingRound({\n    |                                ^ (Relevant source part starts here and spans across multiple lines).",
     "output_type": "error",
     "traceback": [
      "\u001b[0;31m---------------------------------------------------------------------------\u001b[0m",
      "\u001b[0;31mSolcError\u001b[0m                                 Traceback (most recent call last)",
      "Cell \u001b[0;32mIn[5], line 8\u001b[0m\n\u001b[1;32m      5\u001b[0m     \u001b[38;5;28mprint\u001b[39m(\u001b[38;5;124m\"\u001b[39m\u001b[38;5;124mPass\u001b[39m\u001b[38;5;124m\"\u001b[39m)\n\u001b[1;32m      6\u001b[0m     contract_source \u001b[38;5;241m=\u001b[39m f\u001b[38;5;241m.\u001b[39mread()\n\u001b[0;32m----> 8\u001b[0m compiled \u001b[38;5;241m=\u001b[39m \u001b[43mcompile_source\u001b[49m\u001b[43m(\u001b[49m\n\u001b[1;32m      9\u001b[0m \u001b[43m    \u001b[49m\u001b[43mcontract_source\u001b[49m\u001b[43m,\u001b[49m\n\u001b[1;32m     10\u001b[0m \u001b[43m    \u001b[49m\u001b[43msolc_version\u001b[49m\u001b[38;5;241;43m=\u001b[39;49m\u001b[38;5;124;43m'\u001b[39;49m\u001b[38;5;124;43m0.8.17\u001b[39;49m\u001b[38;5;124;43m'\u001b[39;49m\u001b[43m,\u001b[49m\n\u001b[1;32m     11\u001b[0m \u001b[43m    \u001b[49m\u001b[43moutput_values\u001b[49m\u001b[38;5;241;43m=\u001b[39;49m\u001b[43m[\u001b[49m\u001b[38;5;124;43m'\u001b[39;49m\u001b[38;5;124;43mabi\u001b[39;49m\u001b[38;5;124;43m'\u001b[39;49m\u001b[43m,\u001b[49m\u001b[43m \u001b[49m\u001b[38;5;124;43m'\u001b[39;49m\u001b[38;5;124;43mbin\u001b[39;49m\u001b[38;5;124;43m'\u001b[39;49m\u001b[43m]\u001b[49m\n\u001b[1;32m     12\u001b[0m \u001b[43m)\u001b[49m\n\u001b[1;32m     14\u001b[0m \u001b[38;5;66;03m# 确认编译结果\u001b[39;00m\n\u001b[1;32m     15\u001b[0m contract_id, contract_interface \u001b[38;5;241m=\u001b[39m compiled\u001b[38;5;241m.\u001b[39mpopitem()\n",
      "File \u001b[0;32m/opt/anaconda3/envs/jupyterLab/analysis/lib/python3.12/site-packages/solcx/main.py:112\u001b[0m, in \u001b[0;36mcompile_source\u001b[0;34m(source, output_values, import_remappings, base_path, allow_paths, output_dir, overwrite, evm_version, revert_strings, metadata_hash, metadata_literal, optimize, optimize_runs, optimize_yul, no_optimize_yul, yul_optimizations, solc_binary, solc_version, allow_empty)\u001b[0m\n\u001b[1;32m     30\u001b[0m \u001b[38;5;28;01mdef\u001b[39;00m \u001b[38;5;21mcompile_source\u001b[39m(\n\u001b[1;32m     31\u001b[0m     source: \u001b[38;5;28mstr\u001b[39m,\n\u001b[1;32m     32\u001b[0m     output_values: List \u001b[38;5;241m=\u001b[39m \u001b[38;5;28;01mNone\u001b[39;00m,\n\u001b[0;32m   (...)\u001b[0m\n\u001b[1;32m     49\u001b[0m     allow_empty: \u001b[38;5;28mbool\u001b[39m \u001b[38;5;241m=\u001b[39m \u001b[38;5;28;01mFalse\u001b[39;00m,\n\u001b[1;32m     50\u001b[0m ) \u001b[38;5;241m-\u001b[39m\u001b[38;5;241m>\u001b[39m Dict:\n\u001b[1;32m     51\u001b[0m \u001b[38;5;250m    \u001b[39m\u001b[38;5;124;03m\"\"\"\u001b[39;00m\n\u001b[1;32m     52\u001b[0m \u001b[38;5;124;03m    Compile a Solidity contract.\u001b[39;00m\n\u001b[1;32m     53\u001b[0m \n\u001b[0;32m   (...)\u001b[0m\n\u001b[1;32m    110\u001b[0m \u001b[38;5;124;03m        Compiler output. The source file name is given as `<stdin>`.\u001b[39;00m\n\u001b[1;32m    111\u001b[0m \u001b[38;5;124;03m    \"\"\"\u001b[39;00m\n\u001b[0;32m--> 112\u001b[0m     \u001b[38;5;28;01mreturn\u001b[39;00m \u001b[43m_compile_combined_json\u001b[49m\u001b[43m(\u001b[49m\n\u001b[1;32m    113\u001b[0m \u001b[43m        \u001b[49m\u001b[43msolc_binary\u001b[49m\u001b[38;5;241;43m=\u001b[39;49m\u001b[43msolc_binary\u001b[49m\u001b[43m,\u001b[49m\n\u001b[1;32m    114\u001b[0m \u001b[43m        \u001b[49m\u001b[43msolc_version\u001b[49m\u001b[38;5;241;43m=\u001b[39;49m\u001b[43msolc_version\u001b[49m\u001b[43m,\u001b[49m\n\u001b[1;32m    115\u001b[0m \u001b[43m        \u001b[49m\u001b[43mstdin\u001b[49m\u001b[38;5;241;43m=\u001b[39;49m\u001b[43msource\u001b[49m\u001b[43m,\u001b[49m\n\u001b[1;32m    116\u001b[0m \u001b[43m        \u001b[49m\u001b[43moutput_values\u001b[49m\u001b[38;5;241;43m=\u001b[39;49m\u001b[43moutput_values\u001b[49m\u001b[43m,\u001b[49m\n\u001b[1;32m    117\u001b[0m \u001b[43m        \u001b[49m\u001b[43mimport_remappings\u001b[49m\u001b[38;5;241;43m=\u001b[39;49m\u001b[43mimport_remappings\u001b[49m\u001b[43m,\u001b[49m\n\u001b[1;32m    118\u001b[0m \u001b[43m        \u001b[49m\u001b[43mbase_path\u001b[49m\u001b[38;5;241;43m=\u001b[39;49m\u001b[43mbase_path\u001b[49m\u001b[43m,\u001b[49m\n\u001b[1;32m    119\u001b[0m \u001b[43m        \u001b[49m\u001b[43mallow_paths\u001b[49m\u001b[38;5;241;43m=\u001b[39;49m\u001b[43mallow_paths\u001b[49m\u001b[43m,\u001b[49m\n\u001b[1;32m    120\u001b[0m \u001b[43m        \u001b[49m\u001b[43moutput_dir\u001b[49m\u001b[38;5;241;43m=\u001b[39;49m\u001b[43moutput_dir\u001b[49m\u001b[43m,\u001b[49m\n\u001b[1;32m    121\u001b[0m \u001b[43m        \u001b[49m\u001b[43moverwrite\u001b[49m\u001b[38;5;241;43m=\u001b[39;49m\u001b[43moverwrite\u001b[49m\u001b[43m,\u001b[49m\n\u001b[1;32m    122\u001b[0m \u001b[43m        \u001b[49m\u001b[43mevm_version\u001b[49m\u001b[38;5;241;43m=\u001b[39;49m\u001b[43mevm_version\u001b[49m\u001b[43m,\u001b[49m\n\u001b[1;32m    123\u001b[0m \u001b[43m        \u001b[49m\u001b[43mrevert_strings\u001b[49m\u001b[38;5;241;43m=\u001b[39;49m\u001b[43mrevert_strings\u001b[49m\u001b[43m,\u001b[49m\n\u001b[1;32m    124\u001b[0m \u001b[43m        \u001b[49m\u001b[43mmetadata_hash\u001b[49m\u001b[38;5;241;43m=\u001b[39;49m\u001b[43mmetadata_hash\u001b[49m\u001b[43m,\u001b[49m\n\u001b[1;32m    125\u001b[0m \u001b[43m        \u001b[49m\u001b[43mmetadata_literal\u001b[49m\u001b[38;5;241;43m=\u001b[39;49m\u001b[43mmetadata_literal\u001b[49m\u001b[43m,\u001b[49m\n\u001b[1;32m    126\u001b[0m \u001b[43m        \u001b[49m\u001b[43moptimize\u001b[49m\u001b[38;5;241;43m=\u001b[39;49m\u001b[43moptimize\u001b[49m\u001b[43m,\u001b[49m\n\u001b[1;32m    127\u001b[0m \u001b[43m        \u001b[49m\u001b[43moptimize_runs\u001b[49m\u001b[38;5;241;43m=\u001b[39;49m\u001b[43moptimize_runs\u001b[49m\u001b[43m,\u001b[49m\n\u001b[1;32m    128\u001b[0m \u001b[43m        \u001b[49m\u001b[43mno_optimize_yul\u001b[49m\u001b[38;5;241;43m=\u001b[39;49m\u001b[43mno_optimize_yul\u001b[49m\u001b[43m,\u001b[49m\n\u001b[1;32m    129\u001b[0m \u001b[43m        \u001b[49m\u001b[43myul_optimizations\u001b[49m\u001b[38;5;241;43m=\u001b[39;49m\u001b[43myul_optimizations\u001b[49m\u001b[43m,\u001b[49m\n\u001b[1;32m    130\u001b[0m \u001b[43m        \u001b[49m\u001b[43mallow_empty\u001b[49m\u001b[38;5;241;43m=\u001b[39;49m\u001b[43mallow_empty\u001b[49m\u001b[43m,\u001b[49m\n\u001b[1;32m    131\u001b[0m \u001b[43m    \u001b[49m\u001b[43m)\u001b[49m\n",
      "File \u001b[0;32m/opt/anaconda3/envs/jupyterLab/analysis/lib/python3.12/site-packages/solcx/main.py:291\u001b[0m, in \u001b[0;36m_compile_combined_json\u001b[0;34m(output_values, solc_binary, solc_version, output_dir, overwrite, allow_empty, **kwargs)\u001b[0m\n\u001b[1;32m    286\u001b[0m         target_path \u001b[38;5;241m=\u001b[39m output_dir\u001b[38;5;241m.\u001b[39mjoinpath(\u001b[38;5;124m\"\u001b[39m\u001b[38;5;124mcombined.json\u001b[39m\u001b[38;5;124m\"\u001b[39m)\n\u001b[1;32m    287\u001b[0m         \u001b[38;5;28;01mraise\u001b[39;00m \u001b[38;5;167;01mFileExistsError\u001b[39;00m(\n\u001b[1;32m    288\u001b[0m             \u001b[38;5;124mf\u001b[39m\u001b[38;5;124m\"\u001b[39m\u001b[38;5;124mTarget output file \u001b[39m\u001b[38;5;132;01m{\u001b[39;00mtarget_path\u001b[38;5;132;01m}\u001b[39;00m\u001b[38;5;124m already exists - use overwrite=True to overwrite\u001b[39m\u001b[38;5;124m\"\u001b[39m\n\u001b[1;32m    289\u001b[0m         )\n\u001b[0;32m--> 291\u001b[0m stdoutdata, stderrdata, command, proc \u001b[38;5;241m=\u001b[39m \u001b[43mwrapper\u001b[49m\u001b[38;5;241;43m.\u001b[39;49m\u001b[43msolc_wrapper\u001b[49m\u001b[43m(\u001b[49m\n\u001b[1;32m    292\u001b[0m \u001b[43m    \u001b[49m\u001b[43msolc_binary\u001b[49m\u001b[38;5;241;43m=\u001b[39;49m\u001b[43msolc_binary\u001b[49m\u001b[43m,\u001b[49m\n\u001b[1;32m    293\u001b[0m \u001b[43m    \u001b[49m\u001b[43mcombined_json\u001b[49m\u001b[38;5;241;43m=\u001b[39;49m\u001b[43mcombined_json\u001b[49m\u001b[43m,\u001b[49m\n\u001b[1;32m    294\u001b[0m \u001b[43m    \u001b[49m\u001b[43moutput_dir\u001b[49m\u001b[38;5;241;43m=\u001b[39;49m\u001b[43moutput_dir\u001b[49m\u001b[43m,\u001b[49m\n\u001b[1;32m    295\u001b[0m \u001b[43m    \u001b[49m\u001b[43moverwrite\u001b[49m\u001b[38;5;241;43m=\u001b[39;49m\u001b[43moverwrite\u001b[49m\u001b[43m,\u001b[49m\n\u001b[1;32m    296\u001b[0m \u001b[43m    \u001b[49m\u001b[38;5;241;43m*\u001b[39;49m\u001b[38;5;241;43m*\u001b[39;49m\u001b[43mkwargs\u001b[49m\u001b[43m,\u001b[49m\n\u001b[1;32m    297\u001b[0m \u001b[43m\u001b[49m\u001b[43m)\u001b[49m\n\u001b[1;32m    299\u001b[0m \u001b[38;5;28;01mif\u001b[39;00m output_dir:\n\u001b[1;32m    300\u001b[0m     output_path \u001b[38;5;241m=\u001b[39m Path(output_dir)\u001b[38;5;241m.\u001b[39mjoinpath(\u001b[38;5;124m\"\u001b[39m\u001b[38;5;124mcombined.json\u001b[39m\u001b[38;5;124m\"\u001b[39m)\n",
      "File \u001b[0;32m/opt/anaconda3/envs/jupyterLab/analysis/lib/python3.12/site-packages/solcx/wrapper.py:158\u001b[0m, in \u001b[0;36msolc_wrapper\u001b[0;34m(solc_binary, stdin, source_files, import_remappings, success_return_code, **kwargs)\u001b[0m\n\u001b[1;32m    153\u001b[0m         flag \u001b[38;5;241m=\u001b[39m flag\u001b[38;5;241m.\u001b[39msplit(\u001b[38;5;124m\"\u001b[39m\u001b[38;5;124m \u001b[39m\u001b[38;5;124m\"\u001b[39m)[\u001b[38;5;241m-\u001b[39m\u001b[38;5;241m1\u001b[39m]\n\u001b[1;32m    154\u001b[0m         \u001b[38;5;28;01mraise\u001b[39;00m UnknownValue(\n\u001b[1;32m    155\u001b[0m             \u001b[38;5;124mf\u001b[39m\u001b[38;5;124m\"\u001b[39m\u001b[38;5;124msolc \u001b[39m\u001b[38;5;132;01m{\u001b[39;00msolc_version\u001b[38;5;132;01m}\u001b[39;00m\u001b[38;5;124m does not accept \u001b[39m\u001b[38;5;124m'\u001b[39m\u001b[38;5;132;01m{\u001b[39;00moption\u001b[38;5;132;01m}\u001b[39;00m\u001b[38;5;124m'\u001b[39m\u001b[38;5;124m as an option for the \u001b[39m\u001b[38;5;124m'\u001b[39m\u001b[38;5;132;01m{\u001b[39;00mflag\u001b[38;5;132;01m}\u001b[39;00m\u001b[38;5;124m'\u001b[39m\u001b[38;5;124m flag\u001b[39m\u001b[38;5;124m\"\u001b[39m\n\u001b[1;32m    156\u001b[0m         )\n\u001b[0;32m--> 158\u001b[0m     \u001b[38;5;28;01mraise\u001b[39;00m SolcError(\n\u001b[1;32m    159\u001b[0m         command\u001b[38;5;241m=\u001b[39mcommand,\n\u001b[1;32m    160\u001b[0m         return_code\u001b[38;5;241m=\u001b[39mproc\u001b[38;5;241m.\u001b[39mreturncode,\n\u001b[1;32m    161\u001b[0m         stdin_data\u001b[38;5;241m=\u001b[39mstdin,\n\u001b[1;32m    162\u001b[0m         stdout_data\u001b[38;5;241m=\u001b[39mstdoutdata,\n\u001b[1;32m    163\u001b[0m         stderr_data\u001b[38;5;241m=\u001b[39mstderrdata,\n\u001b[1;32m    164\u001b[0m     )\n\u001b[1;32m    166\u001b[0m \u001b[38;5;28;01mreturn\u001b[39;00m stdoutdata, stderrdata, command, proc\n",
      "\u001b[0;31mSolcError\u001b[0m: An error occurred during execution\n> command: `/Users/y.wang8uva.nl/.solcx/solc-v0.8.17 --combined-json abi,bin -`\n> return code: `1`\n> stdout:\n\n> stderr:\nError: True expression's type uint8 does not match false expression's type int8.\n  --> <stdin>:98:38:\n   |\n98 |         _updateReputation(submitter, isValid ? 5 : -20);\n   |                                      ^^^^^^^^^^^^^^^^^\n\nError: Invalid type for argument in function call. Invalid implicit conversion from uint8 to int256 requested.\n  --> <stdin>:98:38:\n   |\n98 |         _updateReputation(submitter, isValid ? 5 : -20);\n   |                                      ^^^^^^^^^^^^^^^^^\n\nError: True expression's type uint8 does not match false expression's type int8.\n  --> <stdin>:99:39:\n   |\n99 |         _updateReputation(msg.sender, isValid ? 2 : -10);\n   |                                       ^^^^^^^^^^^^^^^^^\n\nError: Invalid type for argument in function call. Invalid implicit conversion from uint8 to int256 requested.\n  --> <stdin>:99:39:\n   |\n99 |         _updateReputation(msg.sender, isValid ? 2 : -10);\n   |                                       ^^^^^^^^^^^^^^^^^\n\nError: Types in storage containing (nested) mappings cannot be assigned to.\n   --> <stdin>:171:9:\n    |\n171 |         rounds[currentRound] = TrainingRound({\n    |         ^^^^^^^^^^^^^^^^^^^^\n\nError: Struct containing a (nested) mapping cannot be constructed.\n   --> <stdin>:171:32:\n    |\n171 |         rounds[currentRound] = TrainingRound({\n    |                                ^ (Relevant source part starts here and spans across multiple lines)."
     ]
    }
   ],
   "source": [
    "# %% [2. 编译合约]\n",
    "install_solc('0.8.17')  # 安装编译器\n",
    "\n",
    "with open('../contracts/IncentivizedFLConsensus.sol', 'r') as f:\n",
    "    print(\"Pass\")\n",
    "    contract_source = f.read()\n",
    "\n",
    "compiled = compile_source(\n",
    "    contract_source,\n",
    "    solc_version='0.8.17',\n",
    "    output_values=['abi', 'bin']\n",
    ")\n",
    "\n",
    "# 确认编译结果\n",
    "contract_id, contract_interface = compiled.popitem()\n",
    "print(f\"✅ 合约编译成功 | 合约名称: {contract_id.split(':')[-1]}\")\n",
    "print(f\"ABI条目数: {len(contract_interface['abi'])}\")\n",
    "print(f\"字节码长度: {len(contract_interface['bin'])} 字节\")"
   ]
  },
  {
   "cell_type": "code",
   "execution_count": 5,
   "metadata": {},
   "outputs": [
    {
     "name": "stdout",
     "output_type": "stream",
     "text": [
      "\n",
      "正在安装编译器...\n",
      "\n",
      "开始编译...\n",
      "\n",
      "⛔ 编译失败: An error occurred during execution\n",
      "> command: `/Users/y.wang8uva.nl/.solcx/solc-v0.8.17 --combined-json abi,bin -`\n",
      "> return code: `1`\n",
      "> stdout:\n",
      "\n",
      "> stderr:\n",
      "Error: Undeclared identifier.\n",
      "   --> <stdin>:187:31:\n",
      "    |\n",
      "187 |         emit CommitteeElected(_getCommitteeAddresses());\n",
      "    |                               ^^^^^^^^^^^^^^^^^^^^^^\n"
     ]
    }
   ],
   "source": [
    "# %% [步骤2 修正后的代码]\n",
    "# [3] 编译合约\n",
    "from solcx import compile_source, install_solc\n",
    "print(\"\\n正在安装编译器...\")\n",
    "install_solc('0.8.17')\n",
    "\n",
    "try:\n",
    "    print(\"\\n开始编译...\")\n",
    "    compiled = compile_source(\n",
    "        contract_source,\n",
    "        output_values=['abi', 'bin'],\n",
    "        solc_version='0.8.17'\n",
    "    )\n",
    "    \n",
    "    # 关键修正：通过合约名称获取接口\n",
    "    contract_interface = compiled['<stdin>:FLSimulationConsensus']\n",
    "    \n",
    "    print(\"✅ 编译成功\")\n",
    "    print(\"ABI条目数:\", len(contract_interface['abi']))\n",
    "    print(\"字节码长度:\", len(contract_interface['bin']))\n",
    "    \n",
    "    # 将接口保存到全局变量（可选）\n",
    "    global compiled_contract_interface\n",
    "    compiled_contract_interface = contract_interface\n",
    "    \n",
    "except Exception as e:\n",
    "    print(\"\\n⛔ 编译失败:\", str(e))"
   ]
  }
 ],
 "metadata": {
  "kernelspec": {
   "display_name": "analysis",
   "language": "python",
   "name": "python3"
  },
  "language_info": {
   "codemirror_mode": {
    "name": "ipython",
    "version": 3
   },
   "file_extension": ".py",
   "mimetype": "text/x-python",
   "name": "python",
   "nbconvert_exporter": "python",
   "pygments_lexer": "ipython3",
   "version": "3.12.2"
  }
 },
 "nbformat": 4,
 "nbformat_minor": 2
}
