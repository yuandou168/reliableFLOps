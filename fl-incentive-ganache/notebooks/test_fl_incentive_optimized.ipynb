{
 "cells": [
  {
   "cell_type": "code",
   "execution_count": 1,
   "metadata": {},
   "outputs": [
    {
     "name": "stdout",
     "output_type": "stream",
     "text": [
      "连接状态: True\n"
     ]
    }
   ],
   "source": [
    "from web3 import Web3\n",
    "from solcx import install_solc, set_solc_version, compile_files\n",
    "import time\n",
    "import pandas as pd\n",
    "import matplotlib.pyplot as plt\n",
    "from IPython.display import display, Markdown\n",
    "import random\n",
    "\n",
    "# 连接 Ganache\n",
    "w3 = Web3(Web3.HTTPProvider('http://localhost:8545'))\n",
    "assert w3.is_connected(), \"请确保 Ganache 已启动\"\n",
    "print(f\"连接状态: {w3.is_connected()}\")\n",
    "\n",
    "# 安装 Solidity 编译器\n",
    "install_solc('0.8.17')  # 安装与合约代码匹配的版本\n",
    "set_solc_version('0.8.17')"
   ]
  },
  {
   "cell_type": "code",
   "execution_count": 2,
   "metadata": {},
   "outputs": [
    {
     "data": {
      "text/markdown": [
       "### Solidity 合约源码"
      ],
      "text/plain": [
       "<IPython.core.display.Markdown object>"
      ]
     },
     "metadata": {},
     "output_type": "display_data"
    }
   ],
   "source": [
    "# 读取 Solidity 文件\n",
    "solidity_file = '../contracts/FLIncentiveOptimized.sol'\n",
    "\n",
    "with open(solidity_file, 'r') as f:\n",
    "    contract_source = f.read()\n",
    "\n",
    "# 显示文件内容（可选）\n",
    "display(Markdown(\"### Solidity 合约源码\"))\n",
    "# print(contract_source)"
   ]
  },
  {
   "cell_type": "code",
   "execution_count": 3,
   "metadata": {},
   "outputs": [
    {
     "data": {
      "text/markdown": [
       "### 编译结果"
      ],
      "text/plain": [
       "<IPython.core.display.Markdown object>"
      ]
     },
     "metadata": {},
     "output_type": "display_data"
    },
    {
     "name": "stdout",
     "output_type": "stream",
     "text": [
      "合约 ID: /Users/y.wang8uva.nl/Library/CloudStorage/OneDrive-UvA/TSC2025/reliableFLOps/fl-incentive-ganache/contracts/FLIncentiveOptimized.sol:FLIncentiveOptimized\n",
      "ABI: [{'inputs': [{'internalType': 'uint256', 'name': '_deadline', 'type': 'uint256'}, {'internalType': 'uint256', 'name': '_gracePeriod', 'type': 'uint256'}, {'internalType': 'uint256', 'name': '_claimWindow', 'type': 'uint256'}, {'internalType': 'uint96[3][3]', 'name': '_stakeMatrix', 'type': 'uint96[3][3]'}, {'internalType': 'uint16[3][3]', 'name': '_multiplierMatrix', 'type': 'uint16[3][3]'}], 'stateMutability': 'payable', 'type': 'constructor'}, {'anonymous': False, 'inputs': [{'indexed': False, 'internalType': 'uint256', 'name': 'totalRewards', 'type': 'uint256'}], 'name': 'ContractFinalized', 'type': 'event'}, {'anonymous': False, 'inputs': [{'indexed': True, 'internalType': 'address', 'name': 'user', 'type': 'address'}, {'indexed': False, 'internalType': 'uint256', 'name': 'penalty', 'type': 'uint256'}], 'name': 'LatePenaltyApplied', 'type': 'event'}, {'anonymous': False, 'inputs': [{'indexed': True, 'internalType': 'uint8', 'name': 'dcat', 'type': 'uint8'}, {'indexed': True, 'internalType': 'uint8', 'name': 'rcat', 'type': 'uint8'}, {'indexed': False, 'internalType': 'uint256', 'name': 'newStake', 'type': 'uint256'}, {'indexed': False, 'internalType': 'uint256', 'name': 'newMultiplier', 'type': 'uint256'}], 'name': 'ParametersUpdated', 'type': 'event'}, {'anonymous': False, 'inputs': [{'indexed': True, 'internalType': 'address', 'name': 'user', 'type': 'address'}, {'indexed': False, 'internalType': 'uint8', 'name': 'dataCat', 'type': 'uint8'}, {'indexed': False, 'internalType': 'uint8', 'name': 'resourceCat', 'type': 'uint8'}, {'indexed': False, 'internalType': 'uint256', 'name': 'stake', 'type': 'uint256'}], 'name': 'ParticipantJoined', 'type': 'event'}, {'anonymous': False, 'inputs': [{'indexed': False, 'internalType': 'enum FLIncentiveOptimized.ContractPhase', 'name': 'newPhase', 'type': 'uint8'}], 'name': 'PhaseChanged', 'type': 'event'}, {'anonymous': False, 'inputs': [{'indexed': True, 'internalType': 'address', 'name': 'user', 'type': 'address'}, {'indexed': False, 'internalType': 'uint256', 'name': 'amount', 'type': 'uint256'}], 'name': 'RewardClaimed', 'type': 'event'}, {'inputs': [], 'name': 'claimReward', 'outputs': [], 'stateMutability': 'nonpayable', 'type': 'function'}, {'inputs': [], 'name': 'confirmParamUpdate', 'outputs': [], 'stateMutability': 'nonpayable', 'type': 'function'}, {'inputs': [], 'name': 'currentPhase', 'outputs': [{'internalType': 'enum FLIncentiveOptimized.ContractPhase', 'name': '', 'type': 'uint8'}], 'stateMutability': 'view', 'type': 'function'}, {'inputs': [], 'name': 'currentPoolBalance', 'outputs': [{'internalType': 'uint256', 'name': '', 'type': 'uint256'}], 'stateMutability': 'view', 'type': 'function'}, {'inputs': [], 'name': 'finalize', 'outputs': [], 'stateMutability': 'nonpayable', 'type': 'function'}, {'inputs': [], 'name': 'getParticipantCount', 'outputs': [{'internalType': 'uint256', 'name': '', 'type': 'uint256'}], 'stateMutability': 'view', 'type': 'function'}, {'inputs': [{'internalType': 'uint8', 'name': 'dcat', 'type': 'uint8'}, {'internalType': 'uint8', 'name': 'rcat', 'type': 'uint8'}], 'name': 'join', 'outputs': [], 'stateMutability': 'payable', 'type': 'function'}, {'inputs': [{'internalType': 'uint256', 'name': '', 'type': 'uint256'}, {'internalType': 'uint256', 'name': '', 'type': 'uint256'}], 'name': 'multiplierMatrix', 'outputs': [{'internalType': 'uint16', 'name': '', 'type': 'uint16'}], 'stateMutability': 'view', 'type': 'function'}, {'inputs': [], 'name': 'newMultiplier', 'outputs': [{'internalType': 'uint16', 'name': '', 'type': 'uint16'}], 'stateMutability': 'view', 'type': 'function'}, {'inputs': [], 'name': 'newStake', 'outputs': [{'internalType': 'uint96', 'name': '', 'type': 'uint96'}], 'stateMutability': 'view', 'type': 'function'}, {'inputs': [], 'name': 'paramUpdateTime', 'outputs': [{'internalType': 'uint256', 'name': '', 'type': 'uint256'}], 'stateMutability': 'view', 'type': 'function'}, {'inputs': [{'internalType': 'uint256', 'name': '', 'type': 'uint256'}], 'name': 'participantList', 'outputs': [{'internalType': 'address', 'name': '', 'type': 'address'}], 'stateMutability': 'view', 'type': 'function'}, {'inputs': [{'internalType': 'address', 'name': '', 'type': 'address'}], 'name': 'participants', 'outputs': [{'internalType': 'uint8', 'name': 'dataCat', 'type': 'uint8'}, {'internalType': 'uint8', 'name': 'resourceCat', 'type': 'uint8'}, {'internalType': 'uint96', 'name': 'stakePaid', 'type': 'uint96'}, {'internalType': 'uint40', 'name': 'joinTime', 'type': 'uint40'}, {'internalType': 'bool', 'name': 'isRewarded', 'type': 'bool'}, {'internalType': 'bool', 'name': 'joined', 'type': 'bool'}], 'stateMutability': 'view', 'type': 'function'}, {'inputs': [], 'name': 'pendingDcat', 'outputs': [{'internalType': 'uint8', 'name': '', 'type': 'uint8'}], 'stateMutability': 'view', 'type': 'function'}, {'inputs': [], 'name': 'pendingRcat', 'outputs': [{'internalType': 'uint8', 'name': '', 'type': 'uint8'}], 'stateMutability': 'view', 'type': 'function'}, {'inputs': [{'internalType': 'address', 'name': '', 'type': 'address'}], 'name': 'pendingRewards', 'outputs': [{'internalType': 'uint256', 'name': '', 'type': 'uint256'}], 'stateMutability': 'view', 'type': 'function'}, {'inputs': [], 'name': 'publisher', 'outputs': [{'internalType': 'address', 'name': '', 'type': 'address'}], 'stateMutability': 'view', 'type': 'function'}, {'inputs': [{'internalType': 'uint8', 'name': 'dcat', 'type': 'uint8'}, {'internalType': 'uint8', 'name': 'rcat', 'type': 'uint8'}, {'internalType': 'uint96', 'name': '_stake', 'type': 'uint96'}, {'internalType': 'uint16', 'name': '_multiplier', 'type': 'uint16'}], 'name': 'requestParamUpdate', 'outputs': [], 'stateMutability': 'nonpayable', 'type': 'function'}, {'inputs': [{'internalType': 'uint256', 'name': '', 'type': 'uint256'}, {'internalType': 'uint256', 'name': '', 'type': 'uint256'}], 'name': 'stakeMatrix', 'outputs': [{'internalType': 'uint96', 'name': '', 'type': 'uint96'}], 'stateMutability': 'view', 'type': 'function'}, {'inputs': [], 'name': 'timeConfig', 'outputs': [{'internalType': 'uint256', 'name': 'deadline', 'type': 'uint256'}, {'internalType': 'uint256', 'name': 'gracePeriod', 'type': 'uint256'}, {'internalType': 'uint256', 'name': 'claimWindow', 'type': 'uint256'}], 'stateMutability': 'view', 'type': 'function'}, {'inputs': [], 'name': 'totalLocked', 'outputs': [{'internalType': 'uint256', 'name': '', 'type': 'uint256'}], 'stateMutability': 'view', 'type': 'function'}, {'inputs': [], 'name': 'withdrawRemaining', 'outputs': [], 'stateMutability': 'nonpayable', 'type': 'function'}, {'stateMutability': 'payable', 'type': 'receive'}]...\n"
     ]
    }
   ],
   "source": [
    "# 编译合约\n",
    "compiled = compile_files(\n",
    "    [solidity_file],  # 传入文件路径列表\n",
    "    output_values=['abi', 'bin']\n",
    ")\n",
    "\n",
    "# 提取合约接口\n",
    "contract_id, contract_interface = compiled.popitem()\n",
    "bytecode = contract_interface['bin']\n",
    "abi = contract_interface['abi']\n",
    "\n",
    "# 显示编译结果\n",
    "display(Markdown(\"### 编译结果\"))\n",
    "print(f\"合约 ID: {contract_id}\")\n",
    "print(f\"ABI: {abi[:100]}...\")  # 显示 ABI 的前 100 个字符"
   ]
  },
  {
   "cell_type": "code",
   "execution_count": 4,
   "metadata": {},
   "outputs": [
    {
     "data": {
      "text/markdown": [
       "### 部署结果"
      ],
      "text/plain": [
       "<IPython.core.display.Markdown object>"
      ]
     },
     "metadata": {},
     "output_type": "display_data"
    },
    {
     "name": "stdout",
     "output_type": "stream",
     "text": [
      "合约部署地址: 0x308A41271fBD49bF6E56D40232C15736D9D7B1f4\n",
      "交易哈希: 0x99aa17582050634213b58d98c17ca381b5f5e6f304e2204abda66e1050e3e0d5\n",
      "Gas 消耗: 2873675\n"
     ]
    }
   ],
   "source": [
    "# 部署参数\n",
    "INITIAL_ETH = Web3.to_wei(100, 'ether')\n",
    "DEADLINE = int(time.time()) + 3600  # 1小时后截止\n",
    "GRACE_PERIOD = 600                  # 10分钟宽限期\n",
    "CLAIM_WINDOW = 86400                # 24小时领取期\n",
    "\n",
    "# 部署合约\n",
    "fl_contract = w3.eth.contract(abi=abi, bytecode=bytecode)\n",
    "tx_hash = fl_contract.constructor(\n",
    "    DEADLINE,\n",
    "    GRACE_PERIOD,\n",
    "    CLAIM_WINDOW,\n",
    "    [\n",
    "        [Web3.to_wei(1, 'ether'), Web3.to_wei(2, 'ether'), Web3.to_wei(3, 'ether')],\n",
    "        [Web3.to_wei(1.5, 'ether'), Web3.to_wei(2.5, 'ether'), Web3.to_wei(3.5, 'ether')],\n",
    "        [Web3.to_wei(2, 'ether'), Web3.to_wei(3, 'ether'), Web3.to_wei(4, 'ether')]\n",
    "    ],\n",
    "    [\n",
    "        [1000, 1500, 2000],\n",
    "        [1200, 1800, 2500],\n",
    "        [1500, 2000, 3000]\n",
    "    ]\n",
    ").transact({\n",
    "    'from': w3.eth.accounts[0],\n",
    "    'value': INITIAL_ETH\n",
    "})\n",
    "tx_receipt = w3.eth.wait_for_transaction_receipt(tx_hash)\n",
    "contract_address = tx_receipt['contractAddress']\n",
    "\n",
    "# 显示部署结果\n",
    "display(Markdown(\"### 部署结果\"))\n",
    "print(f\"合约部署地址: {contract_address}\")\n",
    "print(f\"交易哈希: {tx_hash.hex()}\")\n",
    "print(f\"Gas 消耗: {tx_receipt['gasUsed']}\")"
   ]
  },
  {
   "cell_type": "code",
   "execution_count": 5,
   "metadata": {},
   "outputs": [
    {
     "data": {
      "text/markdown": [
       "### 合约实例验证"
      ],
      "text/plain": [
       "<IPython.core.display.Markdown object>"
      ]
     },
     "metadata": {},
     "output_type": "display_data"
    },
    {
     "name": "stdout",
     "output_type": "stream",
     "text": [
      "当前合约阶段: 0\n",
      "初始资金池: 100 ETH\n"
     ]
    }
   ],
   "source": [
    "# 加载合约实例\n",
    "contract = w3.eth.contract(address=contract_address, abi=abi)\n",
    "\n",
    "# 验证合约加载\n",
    "display(Markdown(\"### 合约实例验证\"))\n",
    "print(f\"当前合约阶段: {contract.functions.currentPhase().call()}\")\n",
    "print(f\"初始资金池: {Web3.from_wei(contract.functions.currentPoolBalance().call(), 'ether')} ETH\")"
   ]
  },
  {
   "cell_type": "markdown",
   "metadata": {},
   "source": [
    "### scenario#1 \n",
    "#### 模拟用户根据本地数据选择合约项\n",
    "每个用户将根据自己的本地数据类别和资源类别选择最接近的合约项。"
   ]
  },
  {
   "cell_type": "code",
   "execution_count": 6,
   "metadata": {},
   "outputs": [
    {
     "data": {
      "text/markdown": [
       "### 用户参与结果"
      ],
      "text/plain": [
       "<IPython.core.display.Markdown object>"
      ]
     },
     "metadata": {},
     "output_type": "display_data"
    },
    {
     "data": {
      "text/html": [
       "<div>\n",
       "<style scoped>\n",
       "    .dataframe tbody tr th:only-of-type {\n",
       "        vertical-align: middle;\n",
       "    }\n",
       "\n",
       "    .dataframe tbody tr th {\n",
       "        vertical-align: top;\n",
       "    }\n",
       "\n",
       "    .dataframe thead th {\n",
       "        text-align: right;\n",
       "    }\n",
       "</style>\n",
       "<table border=\"1\" class=\"dataframe\">\n",
       "  <thead>\n",
       "    <tr style=\"text-align: right;\">\n",
       "      <th></th>\n",
       "      <th>user</th>\n",
       "      <th>local_data_cat</th>\n",
       "      <th>local_resource_cat</th>\n",
       "      <th>chosen_data_cat</th>\n",
       "      <th>chosen_resource_cat</th>\n",
       "      <th>stake</th>\n",
       "      <th>status</th>\n",
       "      <th>tx_hash</th>\n",
       "    </tr>\n",
       "  </thead>\n",
       "  <tbody>\n",
       "    <tr>\n",
       "      <th>0</th>\n",
       "      <td>0xf2d7f277Dce74d5bE37a48178d4FF8D8309F9a21</td>\n",
       "      <td>2</td>\n",
       "      <td>0</td>\n",
       "      <td>2</td>\n",
       "      <td>0</td>\n",
       "      <td>2</td>\n",
       "      <td>success</td>\n",
       "      <td>0x9bdd61bfe7dd2aa8997b0a3876b68993b5bc7065ed79...</td>\n",
       "    </tr>\n",
       "    <tr>\n",
       "      <th>1</th>\n",
       "      <td>0x9E6D037CD9cb77f91EA43247603C70b5d1055989</td>\n",
       "      <td>2</td>\n",
       "      <td>2</td>\n",
       "      <td>2</td>\n",
       "      <td>2</td>\n",
       "      <td>4</td>\n",
       "      <td>success</td>\n",
       "      <td>0x66c02c9f6f874b6a3ea0e7041fb4108af0f38bf3be0a...</td>\n",
       "    </tr>\n",
       "    <tr>\n",
       "      <th>2</th>\n",
       "      <td>0xB856Bb80a3dbda7854f8e1c5B1Db3B6EfD5cC027</td>\n",
       "      <td>2</td>\n",
       "      <td>2</td>\n",
       "      <td>2</td>\n",
       "      <td>2</td>\n",
       "      <td>4</td>\n",
       "      <td>success</td>\n",
       "      <td>0xcf415214b0cd9a504b69220bbc214dfc1b4dc6e40fcf...</td>\n",
       "    </tr>\n",
       "    <tr>\n",
       "      <th>3</th>\n",
       "      <td>0x6a6Cf08182c8277c3b1549246A759D17cE8306F4</td>\n",
       "      <td>1</td>\n",
       "      <td>1</td>\n",
       "      <td>1</td>\n",
       "      <td>1</td>\n",
       "      <td>2.5</td>\n",
       "      <td>success</td>\n",
       "      <td>0x9b2b7efb588cef0625c8d34fa4f31b65768d99b4551f...</td>\n",
       "    </tr>\n",
       "    <tr>\n",
       "      <th>4</th>\n",
       "      <td>0x0c24C1b5Be3e4678a4a1A8E29cCa3d2991a138BA</td>\n",
       "      <td>0</td>\n",
       "      <td>1</td>\n",
       "      <td>0</td>\n",
       "      <td>1</td>\n",
       "      <td>2</td>\n",
       "      <td>success</td>\n",
       "      <td>0x43b2fe3bd88d65b634f6ec477e2866e1c94a56698b02...</td>\n",
       "    </tr>\n",
       "    <tr>\n",
       "      <th>5</th>\n",
       "      <td>0x6090d0416759a93ECe56d9E0846Dd667D607376F</td>\n",
       "      <td>1</td>\n",
       "      <td>1</td>\n",
       "      <td>1</td>\n",
       "      <td>1</td>\n",
       "      <td>2.5</td>\n",
       "      <td>success</td>\n",
       "      <td>0x0584b03c55e1449e2b94183d99d4df662fe79d46221d...</td>\n",
       "    </tr>\n",
       "    <tr>\n",
       "      <th>6</th>\n",
       "      <td>0xab41b2c7446957114F2aB17Ebd8cBb4eA9724764</td>\n",
       "      <td>2</td>\n",
       "      <td>2</td>\n",
       "      <td>2</td>\n",
       "      <td>2</td>\n",
       "      <td>4</td>\n",
       "      <td>success</td>\n",
       "      <td>0x24930f5b7bd8183aecfeb0708e291db05527693ef8dd...</td>\n",
       "    </tr>\n",
       "    <tr>\n",
       "      <th>7</th>\n",
       "      <td>0xE98250c6aED9d6f35F50F2FE857fb545df4E5656</td>\n",
       "      <td>1</td>\n",
       "      <td>0</td>\n",
       "      <td>1</td>\n",
       "      <td>0</td>\n",
       "      <td>1.5</td>\n",
       "      <td>success</td>\n",
       "      <td>0xb9fd56deb47851f0a36cfb26ce0849e69c17eee41212...</td>\n",
       "    </tr>\n",
       "    <tr>\n",
       "      <th>8</th>\n",
       "      <td>0xFD95EA909487c417d1E059cD299D484161D95D70</td>\n",
       "      <td>0</td>\n",
       "      <td>2</td>\n",
       "      <td>0</td>\n",
       "      <td>2</td>\n",
       "      <td>3</td>\n",
       "      <td>success</td>\n",
       "      <td>0x1c27e20211caebbb180094c23b48f73b2547d38b272c...</td>\n",
       "    </tr>\n",
       "    <tr>\n",
       "      <th>9</th>\n",
       "      <td>0x6406d1A93CC7bC60e861F9F4edD3dCAAa0a541F0</td>\n",
       "      <td>2</td>\n",
       "      <td>2</td>\n",
       "      <td>2</td>\n",
       "      <td>2</td>\n",
       "      <td>4</td>\n",
       "      <td>success</td>\n",
       "      <td>0xa880a90fed0e4252b8f615857295ad3d65901f935e6b...</td>\n",
       "    </tr>\n",
       "  </tbody>\n",
       "</table>\n",
       "</div>"
      ],
      "text/plain": [
       "                                         user  local_data_cat  \\\n",
       "0  0xf2d7f277Dce74d5bE37a48178d4FF8D8309F9a21               2   \n",
       "1  0x9E6D037CD9cb77f91EA43247603C70b5d1055989               2   \n",
       "2  0xB856Bb80a3dbda7854f8e1c5B1Db3B6EfD5cC027               2   \n",
       "3  0x6a6Cf08182c8277c3b1549246A759D17cE8306F4               1   \n",
       "4  0x0c24C1b5Be3e4678a4a1A8E29cCa3d2991a138BA               0   \n",
       "5  0x6090d0416759a93ECe56d9E0846Dd667D607376F               1   \n",
       "6  0xab41b2c7446957114F2aB17Ebd8cBb4eA9724764               2   \n",
       "7  0xE98250c6aED9d6f35F50F2FE857fb545df4E5656               1   \n",
       "8  0xFD95EA909487c417d1E059cD299D484161D95D70               0   \n",
       "9  0x6406d1A93CC7bC60e861F9F4edD3dCAAa0a541F0               2   \n",
       "\n",
       "   local_resource_cat  chosen_data_cat  chosen_resource_cat stake   status  \\\n",
       "0                   0                2                    0     2  success   \n",
       "1                   2                2                    2     4  success   \n",
       "2                   2                2                    2     4  success   \n",
       "3                   1                1                    1   2.5  success   \n",
       "4                   1                0                    1     2  success   \n",
       "5                   1                1                    1   2.5  success   \n",
       "6                   2                2                    2     4  success   \n",
       "7                   0                1                    0   1.5  success   \n",
       "8                   2                0                    2     3  success   \n",
       "9                   2                2                    2     4  success   \n",
       "\n",
       "                                             tx_hash  \n",
       "0  0x9bdd61bfe7dd2aa8997b0a3876b68993b5bc7065ed79...  \n",
       "1  0x66c02c9f6f874b6a3ea0e7041fb4108af0f38bf3be0a...  \n",
       "2  0xcf415214b0cd9a504b69220bbc214dfc1b4dc6e40fcf...  \n",
       "3  0x9b2b7efb588cef0625c8d34fa4f31b65768d99b4551f...  \n",
       "4  0x43b2fe3bd88d65b634f6ec477e2866e1c94a56698b02...  \n",
       "5  0x0584b03c55e1449e2b94183d99d4df662fe79d46221d...  \n",
       "6  0x24930f5b7bd8183aecfeb0708e291db05527693ef8dd...  \n",
       "7  0xb9fd56deb47851f0a36cfb26ce0849e69c17eee41212...  \n",
       "8  0x1c27e20211caebbb180094c23b48f73b2547d38b272c...  \n",
       "9  0xa880a90fed0e4252b8f615857295ad3d65901f935e6b...  "
      ]
     },
     "metadata": {},
     "output_type": "display_data"
    }
   ],
   "source": [
    "# 模拟用户参与\n",
    "num_users = 10\n",
    "results = []\n",
    "\n",
    "for i in range(num_users):\n",
    "    user = w3.eth.accounts[i + 1]  # 使用不同账户\n",
    "    \n",
    "    # 随机生成用户的本地数据类别和资源类别\n",
    "    local_data_cat = random.choice([0, 1, 2])  # 0=低, 1=中, 2=高\n",
    "    local_resource_cat = random.choice([0, 1, 2])  # 0=低, 1=中, 2=高\n",
    "    \n",
    "    # 选择最接近的合约项\n",
    "    data_cat = min(local_data_cat, 2)  # 确保不超过最高类别\n",
    "    resource_cat = min(local_resource_cat, 2)  # 确保不超过最高类别\n",
    "    \n",
    "    stake = contract.functions.stakeMatrix(data_cat, resource_cat).call()\n",
    "    \n",
    "    try:\n",
    "        # 用户加入合约\n",
    "        tx_hash = contract.functions.join(data_cat, resource_cat).transact({\n",
    "            'from': user,\n",
    "            'value': stake\n",
    "        })\n",
    "        receipt = w3.eth.wait_for_transaction_receipt(tx_hash)\n",
    "        \n",
    "        # 记录结果\n",
    "        results.append({\n",
    "            'user': user,\n",
    "            'local_data_cat': local_data_cat,\n",
    "            'local_resource_cat': local_resource_cat,\n",
    "            'chosen_data_cat': data_cat,\n",
    "            'chosen_resource_cat': resource_cat,\n",
    "            'stake': Web3.from_wei(stake, 'ether'),\n",
    "            'status': 'success',\n",
    "            'tx_hash': tx_hash.hex()\n",
    "        })\n",
    "    except Exception as e:\n",
    "        results.append({\n",
    "            'user': user,\n",
    "            'local_data_cat': local_data_cat,\n",
    "            'local_resource_cat': local_resource_cat,\n",
    "            'chosen_data_cat': data_cat,\n",
    "            'chosen_resource_cat': resource_cat,\n",
    "            'stake': Web3.from_wei(stake, 'ether'),\n",
    "            'status': 'failed',\n",
    "            'error': str(e)\n",
    "        })\n",
    "\n",
    "# 显示参与结果\n",
    "df = pd.DataFrame(results)\n",
    "display(Markdown(\"### 用户参与结果\"))\n",
    "display(df)"
   ]
  },
  {
   "cell_type": "markdown",
   "metadata": {},
   "source": [
    "### 可视化分析\n",
    "用户选择分布"
   ]
  },
  {
   "cell_type": "code",
   "execution_count": 7,
   "metadata": {},
   "outputs": [
    {
     "name": "stderr",
     "output_type": "stream",
     "text": [
      "/opt/anaconda3/envs/jupyterLab/analysis/lib/python3.12/site-packages/IPython/core/pylabtools.py:170: UserWarning: Glyph 29992 (\\N{CJK UNIFIED IDEOGRAPH-7528}) missing from font(s) DejaVu Sans.\n",
      "  fig.canvas.print_figure(bytes_io, **kw)\n",
      "/opt/anaconda3/envs/jupyterLab/analysis/lib/python3.12/site-packages/IPython/core/pylabtools.py:170: UserWarning: Glyph 25143 (\\N{CJK UNIFIED IDEOGRAPH-6237}) missing from font(s) DejaVu Sans.\n",
      "  fig.canvas.print_figure(bytes_io, **kw)\n",
      "/opt/anaconda3/envs/jupyterLab/analysis/lib/python3.12/site-packages/IPython/core/pylabtools.py:170: UserWarning: Glyph 25968 (\\N{CJK UNIFIED IDEOGRAPH-6570}) missing from font(s) DejaVu Sans.\n",
      "  fig.canvas.print_figure(bytes_io, **kw)\n",
      "/opt/anaconda3/envs/jupyterLab/analysis/lib/python3.12/site-packages/IPython/core/pylabtools.py:170: UserWarning: Glyph 37327 (\\N{CJK UNIFIED IDEOGRAPH-91CF}) missing from font(s) DejaVu Sans.\n",
      "  fig.canvas.print_figure(bytes_io, **kw)\n",
      "/opt/anaconda3/envs/jupyterLab/analysis/lib/python3.12/site-packages/IPython/core/pylabtools.py:170: UserWarning: Glyph 36873 (\\N{CJK UNIFIED IDEOGRAPH-9009}) missing from font(s) DejaVu Sans.\n",
      "  fig.canvas.print_figure(bytes_io, **kw)\n",
      "/opt/anaconda3/envs/jupyterLab/analysis/lib/python3.12/site-packages/IPython/core/pylabtools.py:170: UserWarning: Glyph 25321 (\\N{CJK UNIFIED IDEOGRAPH-62E9}) missing from font(s) DejaVu Sans.\n",
      "  fig.canvas.print_figure(bytes_io, **kw)\n",
      "/opt/anaconda3/envs/jupyterLab/analysis/lib/python3.12/site-packages/IPython/core/pylabtools.py:170: UserWarning: Glyph 30340 (\\N{CJK UNIFIED IDEOGRAPH-7684}) missing from font(s) DejaVu Sans.\n",
      "  fig.canvas.print_figure(bytes_io, **kw)\n",
      "/opt/anaconda3/envs/jupyterLab/analysis/lib/python3.12/site-packages/IPython/core/pylabtools.py:170: UserWarning: Glyph 21512 (\\N{CJK UNIFIED IDEOGRAPH-5408}) missing from font(s) DejaVu Sans.\n",
      "  fig.canvas.print_figure(bytes_io, **kw)\n",
      "/opt/anaconda3/envs/jupyterLab/analysis/lib/python3.12/site-packages/IPython/core/pylabtools.py:170: UserWarning: Glyph 32422 (\\N{CJK UNIFIED IDEOGRAPH-7EA6}) missing from font(s) DejaVu Sans.\n",
      "  fig.canvas.print_figure(bytes_io, **kw)\n",
      "/opt/anaconda3/envs/jupyterLab/analysis/lib/python3.12/site-packages/IPython/core/pylabtools.py:170: UserWarning: Glyph 39033 (\\N{CJK UNIFIED IDEOGRAPH-9879}) missing from font(s) DejaVu Sans.\n",
      "  fig.canvas.print_figure(bytes_io, **kw)\n",
      "/opt/anaconda3/envs/jupyterLab/analysis/lib/python3.12/site-packages/IPython/core/pylabtools.py:170: UserWarning: Glyph 20998 (\\N{CJK UNIFIED IDEOGRAPH-5206}) missing from font(s) DejaVu Sans.\n",
      "  fig.canvas.print_figure(bytes_io, **kw)\n",
      "/opt/anaconda3/envs/jupyterLab/analysis/lib/python3.12/site-packages/IPython/core/pylabtools.py:170: UserWarning: Glyph 24067 (\\N{CJK UNIFIED IDEOGRAPH-5E03}) missing from font(s) DejaVu Sans.\n",
      "  fig.canvas.print_figure(bytes_io, **kw)\n",
      "/opt/anaconda3/envs/jupyterLab/analysis/lib/python3.12/site-packages/IPython/core/pylabtools.py:170: UserWarning: Glyph 25454 (\\N{CJK UNIFIED IDEOGRAPH-636E}) missing from font(s) DejaVu Sans.\n",
      "  fig.canvas.print_figure(bytes_io, **kw)\n",
      "/opt/anaconda3/envs/jupyterLab/analysis/lib/python3.12/site-packages/IPython/core/pylabtools.py:170: UserWarning: Glyph 36164 (\\N{CJK UNIFIED IDEOGRAPH-8D44}) missing from font(s) DejaVu Sans.\n",
      "  fig.canvas.print_figure(bytes_io, **kw)\n",
      "/opt/anaconda3/envs/jupyterLab/analysis/lib/python3.12/site-packages/IPython/core/pylabtools.py:170: UserWarning: Glyph 28304 (\\N{CJK UNIFIED IDEOGRAPH-6E90}) missing from font(s) DejaVu Sans.\n",
      "  fig.canvas.print_figure(bytes_io, **kw)\n"
     ]
    },
    {
     "data": {
      "image/png": "[encoded data removed]",
      "text/plain": [
       "<Figure size 1000x600 with 1 Axes>"
      ]
     },
     "metadata": {},
     "output_type": "display_data"
    }
   ],
   "source": [
    "# 统计用户选择的合约项\n",
    "choice_counts = df[['chosen_data_cat', 'chosen_resource_cat']].value_counts().reset_index()\n",
    "choice_counts.columns = ['数据类别', '资源类别', '用户数量']\n",
    "\n",
    "# 柱状图\n",
    "plt.figure(figsize=(10, 6))\n",
    "plt.bar(\n",
    "    choice_counts.apply(lambda row: f\"数据{row['数据类别']}-资源{row['资源类别']}\", axis=1),\n",
    "    choice_counts['用户数量'],\n",
    "    color='skyblue'\n",
    ")\n",
    "plt.title(\"用户选择的合约项分布\")\n",
    "plt.xlabel(\"合约项\")\n",
    "plt.ylabel(\"用户数量\")\n",
    "plt.xticks(rotation=45)\n",
    "plt.show()"
   ]
  },
  {
   "cell_type": "markdown",
   "metadata": {},
   "source": [
    "本地数据与选择的对比"
   ]
  },
  {
   "cell_type": "code",
   "execution_count": 8,
   "metadata": {},
   "outputs": [
    {
     "name": "stderr",
     "output_type": "stream",
     "text": [
      "/var/folders/8z/1cnkmz4s4233_90z9hks3tbr0000gn/T/ipykernel_25186/1983166555.py:20: UserWarning: Glyph 26412 (\\N{CJK UNIFIED IDEOGRAPH-672C}) missing from font(s) DejaVu Sans.\n",
      "  plt.tight_layout()\n",
      "/var/folders/8z/1cnkmz4s4233_90z9hks3tbr0000gn/T/ipykernel_25186/1983166555.py:20: UserWarning: Glyph 22320 (\\N{CJK UNIFIED IDEOGRAPH-5730}) missing from font(s) DejaVu Sans.\n",
      "  plt.tight_layout()\n",
      "/var/folders/8z/1cnkmz4s4233_90z9hks3tbr0000gn/T/ipykernel_25186/1983166555.py:20: UserWarning: Glyph 25968 (\\N{CJK UNIFIED IDEOGRAPH-6570}) missing from font(s) DejaVu Sans.\n",
      "  plt.tight_layout()\n",
      "/var/folders/8z/1cnkmz4s4233_90z9hks3tbr0000gn/T/ipykernel_25186/1983166555.py:20: UserWarning: Glyph 25454 (\\N{CJK UNIFIED IDEOGRAPH-636E}) missing from font(s) DejaVu Sans.\n",
      "  plt.tight_layout()\n",
      "/var/folders/8z/1cnkmz4s4233_90z9hks3tbr0000gn/T/ipykernel_25186/1983166555.py:20: UserWarning: Glyph 31867 (\\N{CJK UNIFIED IDEOGRAPH-7C7B}) missing from font(s) DejaVu Sans.\n",
      "  plt.tight_layout()\n",
      "/var/folders/8z/1cnkmz4s4233_90z9hks3tbr0000gn/T/ipykernel_25186/1983166555.py:20: UserWarning: Glyph 21035 (\\N{CJK UNIFIED IDEOGRAPH-522B}) missing from font(s) DejaVu Sans.\n",
      "  plt.tight_layout()\n",
      "/var/folders/8z/1cnkmz4s4233_90z9hks3tbr0000gn/T/ipykernel_25186/1983166555.py:20: UserWarning: Glyph 36873 (\\N{CJK UNIFIED IDEOGRAPH-9009}) missing from font(s) DejaVu Sans.\n",
      "  plt.tight_layout()\n",
      "/var/folders/8z/1cnkmz4s4233_90z9hks3tbr0000gn/T/ipykernel_25186/1983166555.py:20: UserWarning: Glyph 25321 (\\N{CJK UNIFIED IDEOGRAPH-62E9}) missing from font(s) DejaVu Sans.\n",
      "  plt.tight_layout()\n",
      "/var/folders/8z/1cnkmz4s4233_90z9hks3tbr0000gn/T/ipykernel_25186/1983166555.py:20: UserWarning: Glyph 30340 (\\N{CJK UNIFIED IDEOGRAPH-7684}) missing from font(s) DejaVu Sans.\n",
      "  plt.tight_layout()\n",
      "/var/folders/8z/1cnkmz4s4233_90z9hks3tbr0000gn/T/ipykernel_25186/1983166555.py:20: UserWarning: Glyph 36164 (\\N{CJK UNIFIED IDEOGRAPH-8D44}) missing from font(s) DejaVu Sans.\n",
      "  plt.tight_layout()\n",
      "/var/folders/8z/1cnkmz4s4233_90z9hks3tbr0000gn/T/ipykernel_25186/1983166555.py:20: UserWarning: Glyph 28304 (\\N{CJK UNIFIED IDEOGRAPH-6E90}) missing from font(s) DejaVu Sans.\n",
      "  plt.tight_layout()\n",
      "/opt/anaconda3/envs/jupyterLab/analysis/lib/python3.12/site-packages/IPython/core/pylabtools.py:170: UserWarning: Glyph 31867 (\\N{CJK UNIFIED IDEOGRAPH-7C7B}) missing from font(s) DejaVu Sans.\n",
      "  fig.canvas.print_figure(bytes_io, **kw)\n",
      "/opt/anaconda3/envs/jupyterLab/analysis/lib/python3.12/site-packages/IPython/core/pylabtools.py:170: UserWarning: Glyph 21035 (\\N{CJK UNIFIED IDEOGRAPH-522B}) missing from font(s) DejaVu Sans.\n",
      "  fig.canvas.print_figure(bytes_io, **kw)\n",
      "/opt/anaconda3/envs/jupyterLab/analysis/lib/python3.12/site-packages/IPython/core/pylabtools.py:170: UserWarning: Glyph 26412 (\\N{CJK UNIFIED IDEOGRAPH-672C}) missing from font(s) DejaVu Sans.\n",
      "  fig.canvas.print_figure(bytes_io, **kw)\n",
      "/opt/anaconda3/envs/jupyterLab/analysis/lib/python3.12/site-packages/IPython/core/pylabtools.py:170: UserWarning: Glyph 22320 (\\N{CJK UNIFIED IDEOGRAPH-5730}) missing from font(s) DejaVu Sans.\n",
      "  fig.canvas.print_figure(bytes_io, **kw)\n"
     ]
    },
    {
     "data": {
      "image/png": "[encoded data removed]",
      "text/plain": [
       "<Figure size 1200x600 with 2 Axes>"
      ]
     },
     "metadata": {},
     "output_type": "display_data"
    }
   ],
   "source": [
    "# 对比本地数据与选择的合约项\n",
    "plt.figure(figsize=(12, 6))\n",
    "\n",
    "# 本地数据类别\n",
    "plt.subplot(1, 2, 1)\n",
    "plt.scatter(df['local_data_cat'], df['chosen_data_cat'], alpha=0.6)\n",
    "plt.title(\"本地数据类别 vs 选择的数据类别\")\n",
    "plt.xlabel(\"本地数据类别\")\n",
    "plt.ylabel(\"选择的数据类别\")\n",
    "plt.grid(True)\n",
    "\n",
    "# 本地资源类别\n",
    "plt.subplot(1, 2, 2)\n",
    "plt.scatter(df['local_resource_cat'], df['chosen_resource_cat'], alpha=0.6)\n",
    "plt.title(\"本地资源类别 vs 选择的资源类别\")\n",
    "plt.xlabel(\"本地资源类别\")\n",
    "plt.ylabel(\"选择的资源类别\")\n",
    "plt.grid(True)\n",
    "\n",
    "plt.tight_layout()\n",
    "plt.show()"
   ]
  },
  {
   "cell_type": "code",
   "execution_count": null,
   "metadata": {},
   "outputs": [],
   "source": []
  },
  {
   "cell_type": "code",
   "execution_count": 9,
   "metadata": {},
   "outputs": [
    {
     "data": {
      "text/markdown": [
       "### 资金状态报告"
      ],
      "text/plain": [
       "<IPython.core.display.Markdown object>"
      ]
     },
     "metadata": {},
     "output_type": "display_data"
    },
    {
     "data": {
      "text/html": [
       "<div>\n",
       "<style scoped>\n",
       "    .dataframe tbody tr th:only-of-type {\n",
       "        vertical-align: middle;\n",
       "    }\n",
       "\n",
       "    .dataframe tbody tr th {\n",
       "        vertical-align: top;\n",
       "    }\n",
       "\n",
       "    .dataframe thead th {\n",
       "        text-align: right;\n",
       "    }\n",
       "</style>\n",
       "<table border=\"1\" class=\"dataframe\">\n",
       "  <thead>\n",
       "    <tr style=\"text-align: right;\">\n",
       "      <th></th>\n",
       "      <th>ETH</th>\n",
       "    </tr>\n",
       "  </thead>\n",
       "  <tbody>\n",
       "    <tr>\n",
       "      <th>初始资金</th>\n",
       "      <td>100</td>\n",
       "    </tr>\n",
       "    <tr>\n",
       "      <th>当前资金池</th>\n",
       "      <td>129.5</td>\n",
       "    </tr>\n",
       "    <tr>\n",
       "      <th>总锁定资金</th>\n",
       "      <td>129.5</td>\n",
       "    </tr>\n",
       "    <tr>\n",
       "      <th>待领取奖励</th>\n",
       "      <td>0</td>\n",
       "    </tr>\n",
       "  </tbody>\n",
       "</table>\n",
       "</div>"
      ],
      "text/plain": [
       "         ETH\n",
       "初始资金     100\n",
       "当前资金池  129.5\n",
       "总锁定资金  129.5\n",
       "待领取奖励      0"
      ]
     },
     "metadata": {},
     "output_type": "display_data"
    }
   ],
   "source": [
    "def get_financial_report():\n",
    "    report = {\n",
    "        '初始资金': Web3.from_wei(INITIAL_ETH, 'ether'),\n",
    "        '当前资金池': Web3.from_wei(contract.functions.currentPoolBalance().call(), 'ether'),\n",
    "        '总锁定资金': Web3.from_wei(contract.functions.totalLocked().call(), 'ether'),\n",
    "        '待领取奖励': sum(\n",
    "            Web3.from_wei(contract.functions.pendingRewards(acc).call(), 'ether')\n",
    "            for acc in w3.eth.accounts[1:6]\n",
    "        )\n",
    "    }\n",
    "    return pd.DataFrame([report]).T.rename(columns={0: 'ETH'})\n",
    "\n",
    "display(Markdown(\"### 资金状态报告\"))\n",
    "display(get_financial_report())"
   ]
  },
  {
   "cell_type": "code",
   "execution_count": 10,
   "metadata": {},
   "outputs": [
    {
     "data": {
      "text/markdown": [
       "### 资金状态报告"
      ],
      "text/plain": [
       "<IPython.core.display.Markdown object>"
      ]
     },
     "metadata": {},
     "output_type": "display_data"
    },
    {
     "data": {
      "text/html": [
       "<div>\n",
       "<style scoped>\n",
       "    .dataframe tbody tr th:only-of-type {\n",
       "        vertical-align: middle;\n",
       "    }\n",
       "\n",
       "    .dataframe tbody tr th {\n",
       "        vertical-align: top;\n",
       "    }\n",
       "\n",
       "    .dataframe thead th {\n",
       "        text-align: right;\n",
       "    }\n",
       "</style>\n",
       "<table border=\"1\" class=\"dataframe\">\n",
       "  <thead>\n",
       "    <tr style=\"text-align: right;\">\n",
       "      <th></th>\n",
       "      <th>ETH</th>\n",
       "    </tr>\n",
       "  </thead>\n",
       "  <tbody>\n",
       "    <tr>\n",
       "      <th>初始资金</th>\n",
       "      <td>100</td>\n",
       "    </tr>\n",
       "    <tr>\n",
       "      <th>当前资金池</th>\n",
       "      <td>129.5</td>\n",
       "    </tr>\n",
       "    <tr>\n",
       "      <th>总锁定资金</th>\n",
       "      <td>129.5</td>\n",
       "    </tr>\n",
       "    <tr>\n",
       "      <th>待领取奖励</th>\n",
       "      <td>0</td>\n",
       "    </tr>\n",
       "  </tbody>\n",
       "</table>\n",
       "</div>"
      ],
      "text/plain": [
       "         ETH\n",
       "初始资金     100\n",
       "当前资金池  129.5\n",
       "总锁定资金  129.5\n",
       "待领取奖励      0"
      ]
     },
     "metadata": {},
     "output_type": "display_data"
    }
   ],
   "source": [
    "def get_financial_report():\n",
    "    report = {\n",
    "        '初始资金': Web3.from_wei(INITIAL_ETH, 'ether'),\n",
    "        '当前资金池': Web3.from_wei(contract.functions.currentPoolBalance().call(), 'ether'),\n",
    "        '总锁定资金': Web3.from_wei(contract.functions.totalLocked().call(), 'ether'),\n",
    "        '待领取奖励': sum(\n",
    "            Web3.from_wei(contract.functions.pendingRewards(acc).call(), 'ether')\n",
    "            for acc in w3.eth.accounts[1:num_users + 1]\n",
    "        )\n",
    "    }\n",
    "    return pd.DataFrame([report]).T.rename(columns={0: 'ETH'})\n",
    "\n",
    "display(Markdown(\"### 资金状态报告\"))\n",
    "display(get_financial_report())"
   ]
  },
  {
   "cell_type": "code",
   "execution_count": 11,
   "metadata": {},
   "outputs": [
    {
     "data": {
      "application/vnd.jupyter.widget-view+json": {
       "model_id": "952cd442c9524bffa7af892649a0f973",
       "version_major": 2,
       "version_minor": 0
      },
      "text/plain": [
       "interactive(children=(IntSlider(value=0, description='小时', max=2, min=-2), IntSlider(value=0, description='分钟'…"
      ]
     },
     "metadata": {},
     "output_type": "display_data"
    }
   ],
   "source": [
    "import datetime as dt\n",
    "\n",
    "# 时间旅行工具\n",
    "def set_time(target_timestamp):\n",
    "    \"\"\"设置区块链时间并挖矿\"\"\"\n",
    "    w3.provider.make_request('evm_setNextBlockTimestamp', [target_timestamp])\n",
    "    w3.provider.make_request('evm_mine', [])\n",
    "\n",
    "def get_current_phase():\n",
    "    \"\"\"获取当前合约阶段\"\"\"\n",
    "    phases = ['ACTIVE', 'GRACE', 'CLOSED']\n",
    "    return phases[contract.functions.currentPhase().call()]\n",
    "\n",
    "# 交互式时间设置\n",
    "from ipywidgets import interact, IntSlider\n",
    "\n",
    "@interact(\n",
    "    hours_before=IntSlider(min=-2, max=2, value=0, description='小时'),\n",
    "    minutes=IntSlider(min=0, max=59, value=0, description='分钟')\n",
    ")\n",
    "def set_time_interactive(hours_before, minutes):\n",
    "    offset = hours_before * 3600 + minutes * 60\n",
    "    target_time = DEADLINE + offset\n",
    "    set_time(target_time)\n",
    "    print(f\"当前时间: {dt.datetime.fromtimestamp(target_time)}\")\n",
    "    print(f\"当前阶段: {get_current_phase()}\")"
   ]
  },
  {
   "cell_type": "code",
   "execution_count": null,
   "metadata": {},
   "outputs": [],
   "source": []
  },
  {
   "cell_type": "markdown",
   "metadata": {},
   "source": [
    "### 模拟用户选择行为\n",
    "我们将模拟以下用户行为：\n",
    "\n",
    "诚实用户：根据本地数据选择最接近的合约项。\n",
    "\n",
    "随机用户：随机选择合约项。\n",
    "\n",
    "夸大用户：选择比自己实际能力更高的合约项。\n",
    "\n",
    "保守用户：选择比自己实际能力更低的合约项。"
   ]
  },
  {
   "cell_type": "code",
   "execution_count": 12,
   "metadata": {},
   "outputs": [
    {
     "data": {
      "text/markdown": [
       "### 用户参与结果"
      ],
      "text/plain": [
       "<IPython.core.display.Markdown object>"
      ]
     },
     "metadata": {},
     "output_type": "display_data"
    },
    {
     "data": {
      "text/html": [
       "<div>\n",
       "<style scoped>\n",
       "    .dataframe tbody tr th:only-of-type {\n",
       "        vertical-align: middle;\n",
       "    }\n",
       "\n",
       "    .dataframe tbody tr th {\n",
       "        vertical-align: top;\n",
       "    }\n",
       "\n",
       "    .dataframe thead th {\n",
       "        text-align: right;\n",
       "    }\n",
       "</style>\n",
       "<table border=\"1\" class=\"dataframe\">\n",
       "  <thead>\n",
       "    <tr style=\"text-align: right;\">\n",
       "      <th></th>\n",
       "      <th>user</th>\n",
       "      <th>behavior</th>\n",
       "      <th>local_data_cat</th>\n",
       "      <th>local_resource_cat</th>\n",
       "      <th>chosen_data_cat</th>\n",
       "      <th>chosen_resource_cat</th>\n",
       "      <th>stake</th>\n",
       "      <th>status</th>\n",
       "      <th>error</th>\n",
       "    </tr>\n",
       "  </thead>\n",
       "  <tbody>\n",
       "    <tr>\n",
       "      <th>0</th>\n",
       "      <td>0xf2d7f277Dce74d5bE37a48178d4FF8D8309F9a21</td>\n",
       "      <td>诚实</td>\n",
       "      <td>1</td>\n",
       "      <td>1</td>\n",
       "      <td>1</td>\n",
       "      <td>1</td>\n",
       "      <td>2.5</td>\n",
       "      <td>failed</td>\n",
       "      <td>execution reverted: VM Exception while process...</td>\n",
       "    </tr>\n",
       "    <tr>\n",
       "      <th>1</th>\n",
       "      <td>0x9E6D037CD9cb77f91EA43247603C70b5d1055989</td>\n",
       "      <td>夸大</td>\n",
       "      <td>2</td>\n",
       "      <td>0</td>\n",
       "      <td>2</td>\n",
       "      <td>1</td>\n",
       "      <td>3</td>\n",
       "      <td>failed</td>\n",
       "      <td>execution reverted: VM Exception while process...</td>\n",
       "    </tr>\n",
       "    <tr>\n",
       "      <th>2</th>\n",
       "      <td>0xB856Bb80a3dbda7854f8e1c5B1Db3B6EfD5cC027</td>\n",
       "      <td>夸大</td>\n",
       "      <td>1</td>\n",
       "      <td>2</td>\n",
       "      <td>2</td>\n",
       "      <td>2</td>\n",
       "      <td>4</td>\n",
       "      <td>failed</td>\n",
       "      <td>execution reverted: VM Exception while process...</td>\n",
       "    </tr>\n",
       "    <tr>\n",
       "      <th>3</th>\n",
       "      <td>0x6a6Cf08182c8277c3b1549246A759D17cE8306F4</td>\n",
       "      <td>随机</td>\n",
       "      <td>1</td>\n",
       "      <td>1</td>\n",
       "      <td>0</td>\n",
       "      <td>0</td>\n",
       "      <td>1</td>\n",
       "      <td>failed</td>\n",
       "      <td>execution reverted: VM Exception while process...</td>\n",
       "    </tr>\n",
       "    <tr>\n",
       "      <th>4</th>\n",
       "      <td>0x0c24C1b5Be3e4678a4a1A8E29cCa3d2991a138BA</td>\n",
       "      <td>随机</td>\n",
       "      <td>2</td>\n",
       "      <td>2</td>\n",
       "      <td>2</td>\n",
       "      <td>1</td>\n",
       "      <td>3</td>\n",
       "      <td>failed</td>\n",
       "      <td>execution reverted: VM Exception while process...</td>\n",
       "    </tr>\n",
       "    <tr>\n",
       "      <th>5</th>\n",
       "      <td>0x6090d0416759a93ECe56d9E0846Dd667D607376F</td>\n",
       "      <td>诚实</td>\n",
       "      <td>2</td>\n",
       "      <td>1</td>\n",
       "      <td>2</td>\n",
       "      <td>1</td>\n",
       "      <td>3</td>\n",
       "      <td>failed</td>\n",
       "      <td>execution reverted: VM Exception while process...</td>\n",
       "    </tr>\n",
       "    <tr>\n",
       "      <th>6</th>\n",
       "      <td>0xab41b2c7446957114F2aB17Ebd8cBb4eA9724764</td>\n",
       "      <td>诚实</td>\n",
       "      <td>2</td>\n",
       "      <td>1</td>\n",
       "      <td>2</td>\n",
       "      <td>1</td>\n",
       "      <td>3</td>\n",
       "      <td>failed</td>\n",
       "      <td>execution reverted: VM Exception while process...</td>\n",
       "    </tr>\n",
       "    <tr>\n",
       "      <th>7</th>\n",
       "      <td>0xE98250c6aED9d6f35F50F2FE857fb545df4E5656</td>\n",
       "      <td>保守</td>\n",
       "      <td>2</td>\n",
       "      <td>2</td>\n",
       "      <td>1</td>\n",
       "      <td>1</td>\n",
       "      <td>2.5</td>\n",
       "      <td>failed</td>\n",
       "      <td>execution reverted: VM Exception while process...</td>\n",
       "    </tr>\n",
       "    <tr>\n",
       "      <th>8</th>\n",
       "      <td>0xFD95EA909487c417d1E059cD299D484161D95D70</td>\n",
       "      <td>夸大</td>\n",
       "      <td>2</td>\n",
       "      <td>2</td>\n",
       "      <td>2</td>\n",
       "      <td>2</td>\n",
       "      <td>4</td>\n",
       "      <td>failed</td>\n",
       "      <td>execution reverted: VM Exception while process...</td>\n",
       "    </tr>\n",
       "    <tr>\n",
       "      <th>9</th>\n",
       "      <td>0x6406d1A93CC7bC60e861F9F4edD3dCAAa0a541F0</td>\n",
       "      <td>夸大</td>\n",
       "      <td>0</td>\n",
       "      <td>1</td>\n",
       "      <td>1</td>\n",
       "      <td>2</td>\n",
       "      <td>3.5</td>\n",
       "      <td>failed</td>\n",
       "      <td>execution reverted: VM Exception while process...</td>\n",
       "    </tr>\n",
       "  </tbody>\n",
       "</table>\n",
       "</div>"
      ],
      "text/plain": [
       "                                         user behavior  local_data_cat  \\\n",
       "0  0xf2d7f277Dce74d5bE37a48178d4FF8D8309F9a21       诚实               1   \n",
       "1  0x9E6D037CD9cb77f91EA43247603C70b5d1055989       夸大               2   \n",
       "2  0xB856Bb80a3dbda7854f8e1c5B1Db3B6EfD5cC027       夸大               1   \n",
       "3  0x6a6Cf08182c8277c3b1549246A759D17cE8306F4       随机               1   \n",
       "4  0x0c24C1b5Be3e4678a4a1A8E29cCa3d2991a138BA       随机               2   \n",
       "5  0x6090d0416759a93ECe56d9E0846Dd667D607376F       诚实               2   \n",
       "6  0xab41b2c7446957114F2aB17Ebd8cBb4eA9724764       诚实               2   \n",
       "7  0xE98250c6aED9d6f35F50F2FE857fb545df4E5656       保守               2   \n",
       "8  0xFD95EA909487c417d1E059cD299D484161D95D70       夸大               2   \n",
       "9  0x6406d1A93CC7bC60e861F9F4edD3dCAAa0a541F0       夸大               0   \n",
       "\n",
       "   local_resource_cat  chosen_data_cat  chosen_resource_cat stake  status  \\\n",
       "0                   1                1                    1   2.5  failed   \n",
       "1                   0                2                    1     3  failed   \n",
       "2                   2                2                    2     4  failed   \n",
       "3                   1                0                    0     1  failed   \n",
       "4                   2                2                    1     3  failed   \n",
       "5                   1                2                    1     3  failed   \n",
       "6                   1                2                    1     3  failed   \n",
       "7                   2                1                    1   2.5  failed   \n",
       "8                   2                2                    2     4  failed   \n",
       "9                   1                1                    2   3.5  failed   \n",
       "\n",
       "                                               error  \n",
       "0  execution reverted: VM Exception while process...  \n",
       "1  execution reverted: VM Exception while process...  \n",
       "2  execution reverted: VM Exception while process...  \n",
       "3  execution reverted: VM Exception while process...  \n",
       "4  execution reverted: VM Exception while process...  \n",
       "5  execution reverted: VM Exception while process...  \n",
       "6  execution reverted: VM Exception while process...  \n",
       "7  execution reverted: VM Exception while process...  \n",
       "8  execution reverted: VM Exception while process...  \n",
       "9  execution reverted: VM Exception while process...  "
      ]
     },
     "metadata": {},
     "output_type": "display_data"
    }
   ],
   "source": [
    "# 模拟用户参与\n",
    "num_users = 10\n",
    "results = []\n",
    "\n",
    "for i in range(num_users):\n",
    "    user = w3.eth.accounts[i + 1]  # 使用不同账户\n",
    "    \n",
    "    # 随机生成用户的本地数据类别和资源类别\n",
    "    local_data_cat = random.choice([0, 1, 2])  # 0=低, 1=中, 2=高\n",
    "    local_resource_cat = random.choice([0, 1, 2])  # 0=低, 1=中, 2=高\n",
    "    \n",
    "    # 随机分配用户行为\n",
    "    behavior = random.choice(['诚实', '随机', '夸大', '保守'])\n",
    "    \n",
    "    if behavior == '诚实':\n",
    "        # 选择最接近的合约项\n",
    "        data_cat = min(local_data_cat, 2)\n",
    "        resource_cat = min(local_resource_cat, 2)\n",
    "    elif behavior == '随机':\n",
    "        # 随机选择合约项\n",
    "        data_cat = random.choice([0, 1, 2])\n",
    "        resource_cat = random.choice([0, 1, 2])\n",
    "    elif behavior == '夸大':\n",
    "        # 选择比自己实际能力更高的合约项\n",
    "        data_cat = min(local_data_cat + 1, 2)\n",
    "        resource_cat = min(local_resource_cat + 1, 2)\n",
    "    elif behavior == '保守':\n",
    "        # 选择比自己实际能力更低的合约项\n",
    "        data_cat = max(local_data_cat - 1, 0)\n",
    "        resource_cat = max(local_resource_cat - 1, 0)\n",
    "    \n",
    "    stake = contract.functions.stakeMatrix(data_cat, resource_cat).call()\n",
    "    \n",
    "    try:\n",
    "        # 用户加入合约\n",
    "        tx_hash = contract.functions.join(data_cat, resource_cat).transact({\n",
    "            'from': user,\n",
    "            'value': stake\n",
    "        })\n",
    "        receipt = w3.eth.wait_for_transaction_receipt(tx_hash)\n",
    "        \n",
    "        # 记录结果\n",
    "        results.append({\n",
    "            'user': user,\n",
    "            'behavior': behavior,\n",
    "            'local_data_cat': local_data_cat,\n",
    "            'local_resource_cat': local_resource_cat,\n",
    "            'chosen_data_cat': data_cat,\n",
    "            'chosen_resource_cat': resource_cat,\n",
    "            'stake': Web3.from_wei(stake, 'ether'),\n",
    "            'status': 'success',\n",
    "            'tx_hash': tx_hash.hex()\n",
    "        })\n",
    "    except Exception as e:\n",
    "        results.append({\n",
    "            'user': user,\n",
    "            'behavior': behavior,\n",
    "            'local_data_cat': local_data_cat,\n",
    "            'local_resource_cat': local_resource_cat,\n",
    "            'chosen_data_cat': data_cat,\n",
    "            'chosen_resource_cat': resource_cat,\n",
    "            'stake': Web3.from_wei(stake, 'ether'),\n",
    "            'status': 'failed',\n",
    "            'error': str(e)\n",
    "        })\n",
    "\n",
    "# 显示参与结果\n",
    "df = pd.DataFrame(results)\n",
    "display(Markdown(\"### 用户参与结果\"))\n",
    "display(df)"
   ]
  },
  {
   "cell_type": "code",
   "execution_count": 13,
   "metadata": {},
   "outputs": [
    {
     "name": "stderr",
     "output_type": "stream",
     "text": [
      "/opt/anaconda3/envs/jupyterLab/analysis/lib/python3.12/site-packages/IPython/core/pylabtools.py:170: UserWarning: Glyph 29992 (\\N{CJK UNIFIED IDEOGRAPH-7528}) missing from font(s) DejaVu Sans.\n",
      "  fig.canvas.print_figure(bytes_io, **kw)\n",
      "/opt/anaconda3/envs/jupyterLab/analysis/lib/python3.12/site-packages/IPython/core/pylabtools.py:170: UserWarning: Glyph 25143 (\\N{CJK UNIFIED IDEOGRAPH-6237}) missing from font(s) DejaVu Sans.\n",
      "  fig.canvas.print_figure(bytes_io, **kw)\n",
      "/opt/anaconda3/envs/jupyterLab/analysis/lib/python3.12/site-packages/IPython/core/pylabtools.py:170: UserWarning: Glyph 34892 (\\N{CJK UNIFIED IDEOGRAPH-884C}) missing from font(s) DejaVu Sans.\n",
      "  fig.canvas.print_figure(bytes_io, **kw)\n",
      "/opt/anaconda3/envs/jupyterLab/analysis/lib/python3.12/site-packages/IPython/core/pylabtools.py:170: UserWarning: Glyph 20026 (\\N{CJK UNIFIED IDEOGRAPH-4E3A}) missing from font(s) DejaVu Sans.\n",
      "  fig.canvas.print_figure(bytes_io, **kw)\n",
      "/opt/anaconda3/envs/jupyterLab/analysis/lib/python3.12/site-packages/IPython/core/pylabtools.py:170: UserWarning: Glyph 20998 (\\N{CJK UNIFIED IDEOGRAPH-5206}) missing from font(s) DejaVu Sans.\n",
      "  fig.canvas.print_figure(bytes_io, **kw)\n",
      "/opt/anaconda3/envs/jupyterLab/analysis/lib/python3.12/site-packages/IPython/core/pylabtools.py:170: UserWarning: Glyph 24067 (\\N{CJK UNIFIED IDEOGRAPH-5E03}) missing from font(s) DejaVu Sans.\n",
      "  fig.canvas.print_figure(bytes_io, **kw)\n",
      "/opt/anaconda3/envs/jupyterLab/analysis/lib/python3.12/site-packages/IPython/core/pylabtools.py:170: UserWarning: Glyph 22840 (\\N{CJK UNIFIED IDEOGRAPH-5938}) missing from font(s) DejaVu Sans.\n",
      "  fig.canvas.print_figure(bytes_io, **kw)\n",
      "/opt/anaconda3/envs/jupyterLab/analysis/lib/python3.12/site-packages/IPython/core/pylabtools.py:170: UserWarning: Glyph 22823 (\\N{CJK UNIFIED IDEOGRAPH-5927}) missing from font(s) DejaVu Sans.\n",
      "  fig.canvas.print_figure(bytes_io, **kw)\n",
      "/opt/anaconda3/envs/jupyterLab/analysis/lib/python3.12/site-packages/IPython/core/pylabtools.py:170: UserWarning: Glyph 35802 (\\N{CJK UNIFIED IDEOGRAPH-8BDA}) missing from font(s) DejaVu Sans.\n",
      "  fig.canvas.print_figure(bytes_io, **kw)\n",
      "/opt/anaconda3/envs/jupyterLab/analysis/lib/python3.12/site-packages/IPython/core/pylabtools.py:170: UserWarning: Glyph 23454 (\\N{CJK UNIFIED IDEOGRAPH-5B9E}) missing from font(s) DejaVu Sans.\n",
      "  fig.canvas.print_figure(bytes_io, **kw)\n",
      "/opt/anaconda3/envs/jupyterLab/analysis/lib/python3.12/site-packages/IPython/core/pylabtools.py:170: UserWarning: Glyph 38543 (\\N{CJK UNIFIED IDEOGRAPH-968F}) missing from font(s) DejaVu Sans.\n",
      "  fig.canvas.print_figure(bytes_io, **kw)\n",
      "/opt/anaconda3/envs/jupyterLab/analysis/lib/python3.12/site-packages/IPython/core/pylabtools.py:170: UserWarning: Glyph 26426 (\\N{CJK UNIFIED IDEOGRAPH-673A}) missing from font(s) DejaVu Sans.\n",
      "  fig.canvas.print_figure(bytes_io, **kw)\n",
      "/opt/anaconda3/envs/jupyterLab/analysis/lib/python3.12/site-packages/IPython/core/pylabtools.py:170: UserWarning: Glyph 20445 (\\N{CJK UNIFIED IDEOGRAPH-4FDD}) missing from font(s) DejaVu Sans.\n",
      "  fig.canvas.print_figure(bytes_io, **kw)\n",
      "/opt/anaconda3/envs/jupyterLab/analysis/lib/python3.12/site-packages/IPython/core/pylabtools.py:170: UserWarning: Glyph 23432 (\\N{CJK UNIFIED IDEOGRAPH-5B88}) missing from font(s) DejaVu Sans.\n",
      "  fig.canvas.print_figure(bytes_io, **kw)\n"
     ]
    },
    {
     "data": {
      "image/png": "[encoded data removed]",
      "text/plain": [
       "<Figure size 800x600 with 1 Axes>"
      ]
     },
     "metadata": {},
     "output_type": "display_data"
    }
   ],
   "source": [
    "# 统计用户行为分布\n",
    "behavior_counts = df['behavior'].value_counts()\n",
    "\n",
    "# 饼状图\n",
    "plt.figure(figsize=(8, 6))\n",
    "plt.pie(\n",
    "    behavior_counts,\n",
    "    labels=behavior_counts.index,\n",
    "    autopct='%1.1f%%',\n",
    "    colors=['#4CAF50', '#FFC107', '#F44336', '#2196F3']\n",
    ")\n",
    "plt.title(\"用户行为分布\")\n",
    "plt.show()"
   ]
  },
  {
   "cell_type": "code",
   "execution_count": 14,
   "metadata": {},
   "outputs": [
    {
     "name": "stderr",
     "output_type": "stream",
     "text": [
      "/var/folders/8z/1cnkmz4s4233_90z9hks3tbr0000gn/T/ipykernel_25186/1840523081.py:26: UserWarning: Glyph 26412 (\\N{CJK UNIFIED IDEOGRAPH-672C}) missing from font(s) DejaVu Sans.\n",
      "  plt.tight_layout()\n",
      "/var/folders/8z/1cnkmz4s4233_90z9hks3tbr0000gn/T/ipykernel_25186/1840523081.py:26: UserWarning: Glyph 22320 (\\N{CJK UNIFIED IDEOGRAPH-5730}) missing from font(s) DejaVu Sans.\n",
      "  plt.tight_layout()\n",
      "/var/folders/8z/1cnkmz4s4233_90z9hks3tbr0000gn/T/ipykernel_25186/1840523081.py:26: UserWarning: Glyph 25968 (\\N{CJK UNIFIED IDEOGRAPH-6570}) missing from font(s) DejaVu Sans.\n",
      "  plt.tight_layout()\n",
      "/var/folders/8z/1cnkmz4s4233_90z9hks3tbr0000gn/T/ipykernel_25186/1840523081.py:26: UserWarning: Glyph 25454 (\\N{CJK UNIFIED IDEOGRAPH-636E}) missing from font(s) DejaVu Sans.\n",
      "  plt.tight_layout()\n",
      "/var/folders/8z/1cnkmz4s4233_90z9hks3tbr0000gn/T/ipykernel_25186/1840523081.py:26: UserWarning: Glyph 31867 (\\N{CJK UNIFIED IDEOGRAPH-7C7B}) missing from font(s) DejaVu Sans.\n",
      "  plt.tight_layout()\n",
      "/var/folders/8z/1cnkmz4s4233_90z9hks3tbr0000gn/T/ipykernel_25186/1840523081.py:26: UserWarning: Glyph 21035 (\\N{CJK UNIFIED IDEOGRAPH-522B}) missing from font(s) DejaVu Sans.\n",
      "  plt.tight_layout()\n",
      "/var/folders/8z/1cnkmz4s4233_90z9hks3tbr0000gn/T/ipykernel_25186/1840523081.py:26: UserWarning: Glyph 36873 (\\N{CJK UNIFIED IDEOGRAPH-9009}) missing from font(s) DejaVu Sans.\n",
      "  plt.tight_layout()\n",
      "/var/folders/8z/1cnkmz4s4233_90z9hks3tbr0000gn/T/ipykernel_25186/1840523081.py:26: UserWarning: Glyph 25321 (\\N{CJK UNIFIED IDEOGRAPH-62E9}) missing from font(s) DejaVu Sans.\n",
      "  plt.tight_layout()\n",
      "/var/folders/8z/1cnkmz4s4233_90z9hks3tbr0000gn/T/ipykernel_25186/1840523081.py:26: UserWarning: Glyph 30340 (\\N{CJK UNIFIED IDEOGRAPH-7684}) missing from font(s) DejaVu Sans.\n",
      "  plt.tight_layout()\n",
      "/var/folders/8z/1cnkmz4s4233_90z9hks3tbr0000gn/T/ipykernel_25186/1840523081.py:26: UserWarning: Glyph 35802 (\\N{CJK UNIFIED IDEOGRAPH-8BDA}) missing from font(s) DejaVu Sans.\n",
      "  plt.tight_layout()\n",
      "/var/folders/8z/1cnkmz4s4233_90z9hks3tbr0000gn/T/ipykernel_25186/1840523081.py:26: UserWarning: Glyph 23454 (\\N{CJK UNIFIED IDEOGRAPH-5B9E}) missing from font(s) DejaVu Sans.\n",
      "  plt.tight_layout()\n",
      "/var/folders/8z/1cnkmz4s4233_90z9hks3tbr0000gn/T/ipykernel_25186/1840523081.py:26: UserWarning: Glyph 38543 (\\N{CJK UNIFIED IDEOGRAPH-968F}) missing from font(s) DejaVu Sans.\n",
      "  plt.tight_layout()\n",
      "/var/folders/8z/1cnkmz4s4233_90z9hks3tbr0000gn/T/ipykernel_25186/1840523081.py:26: UserWarning: Glyph 26426 (\\N{CJK UNIFIED IDEOGRAPH-673A}) missing from font(s) DejaVu Sans.\n",
      "  plt.tight_layout()\n",
      "/var/folders/8z/1cnkmz4s4233_90z9hks3tbr0000gn/T/ipykernel_25186/1840523081.py:26: UserWarning: Glyph 22840 (\\N{CJK UNIFIED IDEOGRAPH-5938}) missing from font(s) DejaVu Sans.\n",
      "  plt.tight_layout()\n",
      "/var/folders/8z/1cnkmz4s4233_90z9hks3tbr0000gn/T/ipykernel_25186/1840523081.py:26: UserWarning: Glyph 22823 (\\N{CJK UNIFIED IDEOGRAPH-5927}) missing from font(s) DejaVu Sans.\n",
      "  plt.tight_layout()\n",
      "/var/folders/8z/1cnkmz4s4233_90z9hks3tbr0000gn/T/ipykernel_25186/1840523081.py:26: UserWarning: Glyph 20445 (\\N{CJK UNIFIED IDEOGRAPH-4FDD}) missing from font(s) DejaVu Sans.\n",
      "  plt.tight_layout()\n",
      "/var/folders/8z/1cnkmz4s4233_90z9hks3tbr0000gn/T/ipykernel_25186/1840523081.py:26: UserWarning: Glyph 23432 (\\N{CJK UNIFIED IDEOGRAPH-5B88}) missing from font(s) DejaVu Sans.\n",
      "  plt.tight_layout()\n",
      "/var/folders/8z/1cnkmz4s4233_90z9hks3tbr0000gn/T/ipykernel_25186/1840523081.py:26: UserWarning: Glyph 36164 (\\N{CJK UNIFIED IDEOGRAPH-8D44}) missing from font(s) DejaVu Sans.\n",
      "  plt.tight_layout()\n",
      "/var/folders/8z/1cnkmz4s4233_90z9hks3tbr0000gn/T/ipykernel_25186/1840523081.py:26: UserWarning: Glyph 28304 (\\N{CJK UNIFIED IDEOGRAPH-6E90}) missing from font(s) DejaVu Sans.\n",
      "  plt.tight_layout()\n",
      "/opt/anaconda3/envs/jupyterLab/analysis/lib/python3.12/site-packages/IPython/core/pylabtools.py:170: UserWarning: Glyph 36873 (\\N{CJK UNIFIED IDEOGRAPH-9009}) missing from font(s) DejaVu Sans.\n",
      "  fig.canvas.print_figure(bytes_io, **kw)\n",
      "/opt/anaconda3/envs/jupyterLab/analysis/lib/python3.12/site-packages/IPython/core/pylabtools.py:170: UserWarning: Glyph 25321 (\\N{CJK UNIFIED IDEOGRAPH-62E9}) missing from font(s) DejaVu Sans.\n",
      "  fig.canvas.print_figure(bytes_io, **kw)\n",
      "/opt/anaconda3/envs/jupyterLab/analysis/lib/python3.12/site-packages/IPython/core/pylabtools.py:170: UserWarning: Glyph 30340 (\\N{CJK UNIFIED IDEOGRAPH-7684}) missing from font(s) DejaVu Sans.\n",
      "  fig.canvas.print_figure(bytes_io, **kw)\n",
      "/opt/anaconda3/envs/jupyterLab/analysis/lib/python3.12/site-packages/IPython/core/pylabtools.py:170: UserWarning: Glyph 25968 (\\N{CJK UNIFIED IDEOGRAPH-6570}) missing from font(s) DejaVu Sans.\n",
      "  fig.canvas.print_figure(bytes_io, **kw)\n",
      "/opt/anaconda3/envs/jupyterLab/analysis/lib/python3.12/site-packages/IPython/core/pylabtools.py:170: UserWarning: Glyph 25454 (\\N{CJK UNIFIED IDEOGRAPH-636E}) missing from font(s) DejaVu Sans.\n",
      "  fig.canvas.print_figure(bytes_io, **kw)\n",
      "/opt/anaconda3/envs/jupyterLab/analysis/lib/python3.12/site-packages/IPython/core/pylabtools.py:170: UserWarning: Glyph 31867 (\\N{CJK UNIFIED IDEOGRAPH-7C7B}) missing from font(s) DejaVu Sans.\n",
      "  fig.canvas.print_figure(bytes_io, **kw)\n",
      "/opt/anaconda3/envs/jupyterLab/analysis/lib/python3.12/site-packages/IPython/core/pylabtools.py:170: UserWarning: Glyph 21035 (\\N{CJK UNIFIED IDEOGRAPH-522B}) missing from font(s) DejaVu Sans.\n",
      "  fig.canvas.print_figure(bytes_io, **kw)\n",
      "/opt/anaconda3/envs/jupyterLab/analysis/lib/python3.12/site-packages/IPython/core/pylabtools.py:170: UserWarning: Glyph 26412 (\\N{CJK UNIFIED IDEOGRAPH-672C}) missing from font(s) DejaVu Sans.\n",
      "  fig.canvas.print_figure(bytes_io, **kw)\n",
      "/opt/anaconda3/envs/jupyterLab/analysis/lib/python3.12/site-packages/IPython/core/pylabtools.py:170: UserWarning: Glyph 22320 (\\N{CJK UNIFIED IDEOGRAPH-5730}) missing from font(s) DejaVu Sans.\n",
      "  fig.canvas.print_figure(bytes_io, **kw)\n",
      "/opt/anaconda3/envs/jupyterLab/analysis/lib/python3.12/site-packages/IPython/core/pylabtools.py:170: UserWarning: Glyph 36164 (\\N{CJK UNIFIED IDEOGRAPH-8D44}) missing from font(s) DejaVu Sans.\n",
      "  fig.canvas.print_figure(bytes_io, **kw)\n",
      "/opt/anaconda3/envs/jupyterLab/analysis/lib/python3.12/site-packages/IPython/core/pylabtools.py:170: UserWarning: Glyph 28304 (\\N{CJK UNIFIED IDEOGRAPH-6E90}) missing from font(s) DejaVu Sans.\n",
      "  fig.canvas.print_figure(bytes_io, **kw)\n"
     ]
    },
    {
     "data": {
      "image/png": "[encoded data removed]",
      "text/plain": [
       "<Figure size 1200x600 with 2 Axes>"
      ]
     },
     "metadata": {},
     "output_type": "display_data"
    }
   ],
   "source": [
    "# 对比用户选择与本地数据\n",
    "plt.figure(figsize=(12, 6))\n",
    "\n",
    "# 数据类别\n",
    "plt.subplot(1, 2, 1)\n",
    "for behavior, color in zip(['诚实', '随机', '夸大', '保守'], ['green', 'orange', 'red', 'blue']):\n",
    "    subset = df[df['behavior'] == behavior]\n",
    "    plt.scatter(subset['local_data_cat'], subset['chosen_data_cat'], label=behavior, color=color, alpha=0.6)\n",
    "plt.title(\"本地数据类别 vs 选择的数据类别\")\n",
    "plt.xlabel(\"本地数据类别\")\n",
    "plt.ylabel(\"选择的数据类别\")\n",
    "plt.legend()\n",
    "plt.grid(True)\n",
    "\n",
    "# 资源类别\n",
    "plt.subplot(1, 2, 2)\n",
    "for behavior, color in zip(['诚实', '随机', '夸大', '保守'], ['green', 'orange', 'red', 'blue']):\n",
    "    subset = df[df['behavior'] == behavior]\n",
    "    plt.scatter(subset['local_resource_cat'], subset['chosen_resource_cat'], label=behavior, color=color, alpha=0.6)\n",
    "plt.title(\"本地资源类别 vs 选择的资源类别\")\n",
    "plt.xlabel(\"本地资源类别\")\n",
    "plt.ylabel(\"选择的资源类别\")\n",
    "plt.legend()\n",
    "plt.grid(True)\n",
    "\n",
    "plt.tight_layout()\n",
    "plt.show()"
   ]
  },
  {
   "cell_type": "code",
   "execution_count": null,
   "metadata": {},
   "outputs": [
    {
     "data": {
      "text/markdown": [
       "### 资金状态报告"
      ],
      "text/plain": [
       "<IPython.core.display.Markdown object>"
      ]
     },
     "metadata": {},
     "output_type": "display_data"
    },
    {
     "data": {
      "text/html": [
       "<div>\n",
       "<style scoped>\n",
       "    .dataframe tbody tr th:only-of-type {\n",
       "        vertical-align: middle;\n",
       "    }\n",
       "\n",
       "    .dataframe tbody tr th {\n",
       "        vertical-align: top;\n",
       "    }\n",
       "\n",
       "    .dataframe thead th {\n",
       "        text-align: right;\n",
       "    }\n",
       "</style>\n",
       "<table border=\"1\" class=\"dataframe\">\n",
       "  <thead>\n",
       "    <tr style=\"text-align: right;\">\n",
       "      <th></th>\n",
       "      <th>ETH</th>\n",
       "    </tr>\n",
       "  </thead>\n",
       "  <tbody>\n",
       "    <tr>\n",
       "      <th>初始资金</th>\n",
       "      <td>100</td>\n",
       "    </tr>\n",
       "    <tr>\n",
       "      <th>当前资金池</th>\n",
       "      <td>129.5</td>\n",
       "    </tr>\n",
       "    <tr>\n",
       "      <th>总锁定资金</th>\n",
       "      <td>129.5</td>\n",
       "    </tr>\n",
       "    <tr>\n",
       "      <th>待领取奖励</th>\n",
       "      <td>0</td>\n",
       "    </tr>\n",
       "  </tbody>\n",
       "</table>\n",
       "</div>"
      ],
      "text/plain": [
       "         ETH\n",
       "初始资金     100\n",
       "当前资金池  129.5\n",
       "总锁定资金  129.5\n",
       "待领取奖励      0"
      ]
     },
     "metadata": {},
     "output_type": "display_data"
    },
    {
     "ename": "",
     "evalue": "",
     "output_type": "error",
     "traceback": [
      "\u001b[1;31mThe Kernel crashed while executing code in the current cell or a previous cell. \n",
      "\u001b[1;31mPlease review the code in the cell(s) to identify a possible cause of the failure. \n",
      "\u001b[1;31mClick <a href='https://aka.ms/vscodeJupyterKernelCrash'>here</a> for more info. \n",
      "\u001b[1;31mView Jupyter <a href='command:jupyter.viewOutput'>log</a> for further details."
     ]
    }
   ],
   "source": [
    "def get_financial_report():\n",
    "    report = {\n",
    "        '初始资金': Web3.from_wei(INITIAL_ETH, 'ether'),\n",
    "        '当前资金池': Web3.from_wei(contract.functions.currentPoolBalance().call(), 'ether'),\n",
    "        '总锁定资金': Web3.from_wei(contract.functions.totalLocked().call(), 'ether'),\n",
    "        '待领取奖励': sum(\n",
    "            Web3.from_wei(contract.functions.pendingRewards(acc).call(), 'ether')\n",
    "            for acc in w3.eth.accounts[1:num_users + 1]\n",
    "        )\n",
    "    }\n",
    "    return pd.DataFrame([report]).T.rename(columns={0: 'ETH'})\n",
    "\n",
    "display(Markdown(\"### 资金状态报告\"))\n",
    "display(get_financial_report())"
   ]
  }
 ],
 "metadata": {
  "kernelspec": {
   "display_name": "analysis",
   "language": "python",
   "name": "python3"
  },
  "language_info": {
   "codemirror_mode": {
    "name": "ipython",
    "version": 3
   },
   "file_extension": ".py",
   "mimetype": "text/x-python",
   "name": "python",
   "nbconvert_exporter": "python",
   "pygments_lexer": "ipython3",
   "version": "3.12.2"
  }
 },
 "nbformat": 4,
 "nbformat_minor": 2
}
